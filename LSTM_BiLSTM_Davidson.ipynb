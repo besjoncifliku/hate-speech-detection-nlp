{
  "nbformat": 4,
  "nbformat_minor": 0,
  "metadata": {
    "kernelspec": {
      "display_name": "Python 3",
      "language": "python",
      "name": "python3"
    },
    "language_info": {
      "codemirror_mode": {
        "name": "ipython",
        "version": 3
      },
      "file_extension": ".py",
      "mimetype": "text/x-python",
      "name": "python",
      "nbconvert_exporter": "python",
      "pygments_lexer": "ipython3",
      "version": "3.8.3"
    },
    "colab": {
      "provenance": []
    },
    "accelerator": "TPU"
  },
  "cells": [
    {
      "cell_type": "markdown",
      "source": [
        "# **HATE SPEECH DETECTION USING LSTM AND BILSMT ON DAVIDSON**\n",
        "\n",
        "**REFERENCE**: The implementation here is a combination of different implementations: <br>\n",
        "[1] Pinkesh Badjatiya and Shashank Gupta in \"Deep Learning for Hate Speech Detection\" (to appear in WWW'17 proceedings) (2017) at https://github.com/pinkeshbadjatiya/twitter-hatespeech <br>\n",
        "[2] Adil Emre Bilgic(June, 2021) in \"Sentiment Analysis Hate Speech at https://www.kaggle.com/adilemrebilgic/sentiment-analysis-hate-speech/notebook<br>\n",
        "[3] Srishti Bhalla(Feb 2019) in Hate-Speech-Detection-on-Twitter-Data at https://github.com/srishb28/Hate-Speech-Detection-on-Twitter-Data trained on the dataset of Zeerak et. al. at https://github.com/ZeerakW/hatespeech mentioned also in the report<br>\n",
        "[4] Deephate: Paper: Cao, R., Ka-Wei Lee, R., Hoang, T.A.: DeepHate: Hate Speech Detection via Multi-Faceted Text Representations. In: WebSci ’20: 12th ACM Conference on Web Science, July 2020 Pages 11–20 (October 2020) https://gitlab.com/bottle_shop/safe/deephate/-/tree/master/DeepHate<br><br>\n",
        "\n",
        "In this notebook we present the approach as we are trying to detect hate speech in tweets of the Davidson dataset. The dataset is distributed as hate, offensive and neither. The label '1' denotes the tweet is offensive and label '0' is hate, label `2` is neither.\n",
        "\n",
        "There are two models: LSTM and BiLSTM. We train the models on Davidson dataset, where we split on **80%** for training and **20%** on testing. The data is not shuffled in order to have a fair comparison between other models presented in the paper i.e Deephate and TFIDF Based Model.\n",
        "\n",
        "> There is a simple LSTM network tested with different hidden units (**50, 64, 128** unit in the hidden layer) and a drop out rate of `0.2` and a reccurrent droput rate of `0.4`. There is one dense layer at the end with 1 unit and an activation function as sigmoid (since we are trying to predict different classes labels `0`, `1`, and `2`). We use `categorical_cross_entropy` loss as well.\n",
        "\n",
        "The models are fine tunded by differing the no.of.epochs 1-100 epochs and batch size (32,64,128, 256).You can have a look at the accuracy and training plot below, with respective comments.\n",
        "<br><br><br>\n",
        "**Table of Contents:**<br><br>\n",
        "\n",
        "---\n",
        "HATE SPEECH DETECTION USING LSTM AND BILSMT ON KAGGLE\n",
        "1. Imports and Preleminaries\n",
        "2. Data Cleaning\n",
        " - Text Pre-Processing\n",
        " - Cleaning Pipeline\n",
        " - Data Preparation\n",
        "3. LSTM and BiLSTM Models\n",
        "4. Training\n",
        "5. Model Training\n",
        " - Word Embeddings\n",
        "    - Train The Word2Vec Embedding on Davidson tweets\n",
        "    - Use Embedding Layer as trainable layer for LSTM and BiLSTM\n",
        "    - Use Embedding Layer as non-trainable for LSTM and BiLSTM\n",
        "6. Controversial Topic Analysis\n",
        "<br><br><br>\n",
        "How to run the notebook?\n",
        "\n",
        "---\n",
        "\n",
        "\n",
        "1.   Start the notebook and run every cell\n",
        "2.   Make sure to have all packages installed. It might be better if you use Google Colab or Kaggle as they already have most of the packages available for usage\n",
        "3.   Packages to be installed: Numpy, Pandas, Matplotlib, Seaborn, Tensorflow, nltk, keras, and genism\n",
        "4.   Then you can just run the notebook as usuall and enjoy the result :)\n",
        "5.   If anything happens please contact as to our email address as noted on the submission lab report.\n",
        "---\n",
        "\n",
        "<br>\n",
        "Thank you for your understanding!\n",
        "\n"
      ],
      "metadata": {
        "id": "zStaZ860ljwR"
      }
    },
    {
      "cell_type": "markdown",
      "source": [
        "## Import and Preleminaries"
      ],
      "metadata": {
        "id": "xU4kDLr2fpRT"
      }
    },
    {
      "cell_type": "code",
      "metadata": {
        "id": "3bBqLFte9vgF"
      },
      "source": [
        "import numpy as np\n",
        "import pandas as pd\n",
        "from nltk.corpus import stopwords\n",
        "from sklearn.model_selection import train_test_split\n",
        "from sklearn.feature_extraction.text import CountVectorizer\n",
        "import re\n",
        "import string\n",
        "from sklearn import svm\n",
        "from sklearn.metrics import precision_recall_fscore_support\n",
        "from sklearn.metrics import precision_recall_fscore_support, accuracy_score, classification_report, confusion_matrix\n",
        "import keras.utils\n",
        "from keras.utils.np_utils import to_categorical\n",
        "from nltk.tokenize import word_tokenize\n",
        "from keras.preprocessing.text import Tokenizer\n",
        "from keras.preprocessing.sequence import pad_sequences\n",
        "from keras.layers import Dense, Input, LSTM, Embedding, Dropout, Activation\n",
        "from keras.layers import Bidirectional, GlobalMaxPool1D\n",
        "from keras.callbacks import EarlyStopping,ModelCheckpoint\n",
        "from keras.models import Model\n",
        "from keras import initializers, regularizers, constraints, optimizers, layers\n",
        "from keras.layers import LeakyReLU\n",
        "from keras.models import load_model\n",
        "import matplotlib.pyplot as plt"
      ],
      "execution_count": null,
      "outputs": []
    },
    {
      "cell_type": "code",
      "source": [
        "import nltk\n",
        "nltk.download('stopwords')\n",
        "nltk.download('punkt')"
      ],
      "metadata": {
        "colab": {
          "base_uri": "https://localhost:8080/"
        },
        "id": "d_rGW--wl_rq",
        "outputId": "180550cb-d577-4c35-f3b9-8815011000a1"
      },
      "execution_count": null,
      "outputs": [
        {
          "output_type": "stream",
          "name": "stdout",
          "text": [
            "[nltk_data] Downloading package stopwords to /root/nltk_data...\n",
            "[nltk_data]   Unzipping corpora/stopwords.zip.\n",
            "[nltk_data] Downloading package punkt to /root/nltk_data...\n",
            "[nltk_data]   Unzipping tokenizers/punkt.zip.\n"
          ]
        },
        {
          "output_type": "execute_result",
          "data": {
            "text/plain": [
              "True"
            ]
          },
          "metadata": {},
          "execution_count": 2
        }
      ]
    },
    {
      "cell_type": "markdown",
      "metadata": {
        "id": "8t0udr209vgJ"
      },
      "source": [
        "## Loading Data"
      ]
    },
    {
      "cell_type": "markdown",
      "metadata": {
        "id": "SV5Fdtns9vgK"
      },
      "source": [
        "Lets load the data to content folder in github. The data will be loadet to `\\content\\name_of_file`"
      ]
    },
    {
      "cell_type": "code",
      "metadata": {
        "colab": {
          "resources": {
            "http://localhost:8080/nbextensions/google.colab/files.js": {
              "data": "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",
              "ok": true,
              "headers": [
                [
                  "content-type",
                  "application/javascript"
                ]
              ],
              "status": 200,
              "status_text": "OK"
            }
          },
          "base_uri": "https://localhost:8080/",
          "height": 182
        },
        "id": "eXqOIVsRePMO",
        "outputId": "4036fb74-3d0b-4a6c-d7a8-4f138e455705"
      },
      "source": [
        "# Use this only if you are using colab otherwise comment it out\n",
        "from google.colab import files\n",
        "dataset_file_dict = files.upload()"
      ],
      "execution_count": null,
      "outputs": [
        {
          "output_type": "display_data",
          "data": {
            "text/html": [
              "\n",
              "     <input type=\"file\" id=\"files-1b79cca5-bc18-4082-8c13-f5ecd64ab752\" name=\"files[]\" multiple disabled\n",
              "        style=\"border:none\" />\n",
              "     <output id=\"result-1b79cca5-bc18-4082-8c13-f5ecd64ab752\">\n",
              "      Upload widget is only available when the cell has been executed in the\n",
              "      current browser session. Please rerun this cell to enable.\n",
              "      </output>\n",
              "      <script src=\"/nbextensions/google.colab/files.js\"></script> "
            ],
            "text/plain": [
              "<IPython.core.display.HTML object>"
            ]
          },
          "metadata": {}
        },
        {
          "output_type": "stream",
          "name": "stdout",
          "text": [
            "Saving 150labeledLGBT.csv to 150labeledLGBT.csv\n",
            "Saving 190labeledTrump.csv to 190labeledTrump.csv\n",
            "Saving 190labeledCovid.csv to 190labeledCovid.csv\n",
            "Saving davidson.csv to davidson.csv\n"
          ]
        }
      ]
    },
    {
      "cell_type": "markdown",
      "source": [
        "This are the dataset that are used for controversial topic analysis. Make sure the content path is correct in your system. In colab the files would be uploaded to /content directory. This would be used in the end of the notebook to analyse the result based on the model training. We would use LSTM for testing\n"
      ],
      "metadata": {
        "id": "3zh6MwZokkrU"
      }
    },
    {
      "cell_type": "code",
      "metadata": {
        "id": "FCkbH96G6m-2"
      },
      "source": [
        "df_trump = pd.read_csv(\"/content/190labeledTrump.csv\")\n",
        "df_lgbt = pd.read_csv(\"/content/150labeledLGBT.csv\")\n",
        "df_covid = pd.read_csv(\"/content/190labeledCovid.csv\")"
      ],
      "execution_count": null,
      "outputs": []
    },
    {
      "cell_type": "code",
      "metadata": {
        "colab": {
          "base_uri": "https://localhost:8080/"
        },
        "id": "P4eNQ0jU9vgK",
        "outputId": "51e8d4e0-99d0-437f-cbaf-7bd722a898c6"
      },
      "source": [
        "davidson_df = pd.read_csv(\"/content/davidson.csv\")\n",
        "print(davidson_df.head())\n",
        "print(len(davidson_df))\n",
        "classes = davidson_df.groupby('class')\n",
        "print(classes.describe())\n",
        "\n",
        "# df_temp = davidson_df[['class', 'tweet']]\n",
        "# test_data = df_temp[19827:].copy() # 4956 will be test data so we can compare with deep hate and tfidf\n",
        "# data = df_temp[:19827].copy()\n",
        "# print(data)"
      ],
      "execution_count": null,
      "outputs": [
        {
          "output_type": "stream",
          "name": "stdout",
          "text": [
            "   Unnamed: 0  count  ...  class                                              tweet\n",
            "0           0      3  ...      2  !!! RT @mayasolovely: As a woman you shouldn't...\n",
            "1           1      3  ...      1  !!!!! RT @mleew17: boy dats cold...tyga dwn ba...\n",
            "2           2      3  ...      1  !!!!!!! RT @UrKindOfBrand Dawg!!!! RT @80sbaby...\n",
            "3           3      3  ...      1  !!!!!!!!! RT @C_G_Anderson: @viva_based she lo...\n",
            "4           4      6  ...      1  !!!!!!!!!!!!! RT @ShenikaRoberts: The shit you...\n",
            "\n",
            "[5 rows x 7 columns]\n",
            "24783\n",
            "      Unnamed: 0                                   ... neither               \n",
            "           count          mean          std   min  ...     25%  50%  75%  max\n",
            "class                                              ...                       \n",
            "0         1430.0  10983.741958  7241.005639  85.0  ...     0.0  0.0  0.0  4.0\n",
            "1        19190.0  12827.344919  7304.666765   1.0  ...     0.0  0.0  0.0  3.0\n",
            "2         4163.0  12590.555369  7222.217918   0.0  ...     2.0  3.0  3.0  9.0\n",
            "\n",
            "[3 rows x 40 columns]\n"
          ]
        }
      ]
    },
    {
      "cell_type": "markdown",
      "metadata": {
        "id": "4abjhYdS9vgM"
      },
      "source": [
        "## Data Preprocessing"
      ]
    },
    {
      "cell_type": "code",
      "metadata": {
        "colab": {
          "base_uri": "https://localhost:8080/"
        },
        "id": "acVPMBXc9vgM",
        "outputId": "700b5bb4-6b63-48c2-cfa3-9f0da1160fb6"
      },
      "source": [
        "davidson_df.isnull().values.any()"
      ],
      "execution_count": null,
      "outputs": [
        {
          "output_type": "execute_result",
          "data": {
            "text/plain": [
              "False"
            ]
          },
          "metadata": {},
          "execution_count": 6
        }
      ]
    },
    {
      "cell_type": "code",
      "source": [
        "davidson_df['tweet'].str.split().map(lambda x: len(x)).hist()"
      ],
      "metadata": {
        "colab": {
          "base_uri": "https://localhost:8080/",
          "height": 283
        },
        "id": "sbeaH2-vm-ty",
        "outputId": "56d82cc7-213c-4fd0-be69-62baabcaaf9a"
      },
      "execution_count": null,
      "outputs": [
        {
          "output_type": "execute_result",
          "data": {
            "text/plain": [
              "<matplotlib.axes._subplots.AxesSubplot at 0x7fcc44328550>"
            ]
          },
          "metadata": {},
          "execution_count": 7
        },
        {
          "output_type": "display_data",
          "data": {
            "image/png": "[encoded data removed]",
            "text/plain": [
              "<Figure size 432x288 with 1 Axes>"
            ]
          },
          "metadata": {
            "needs_background": "light"
          }
        }
      ]
    },
    {
      "cell_type": "markdown",
      "source": [
        "### Text Pre-Processing\n",
        "\n",
        "This is rather a simple cleaning pipeline:\n",
        "\n",
        "\n",
        "1.   Remove special characters and leave only letters.\n",
        "2.   Lowercase all letters and split the text\n",
        "3.   Remove emojis/links/usernames and normalize hash tags.\n",
        "4.   Apply stemming on the data to fix the influence of the bad words\n",
        "5.   Remove all the stopwords as they are do not contain a lot of information stored.\n",
        "6.   Create a sequence again\n",
        "\n",
        "> This method was part of the Deephate project found in the submission folder in gitlab. We tried to align our methods in order to have a much more fair comparison. However, in LSTM we also make use of Stemming as we believe this might be a factor that influence the learning of the model"
      ],
      "metadata": {
        "id": "acZFb9X_mBaD"
      }
    },
    {
      "cell_type": "markdown",
      "source": [
        "### Cleaning Pipleine\n",
        "The cleaning is similar to deephate.\n",
        "Reference: Code implementation for the paper \"DeepHate: Hate Speech Detection via Multi-Faceted Text Representations\" (WebSci'20) Roy Lee (2021) at https://gitlab.com/bottle_shop/safe/deephate/-/blob/master/DeepHate/dataset.py"
      ],
      "metadata": {
        "id": "K3TF8IZqsHSl"
      }
    },
    {
      "cell_type": "code",
      "source": [
        "def expand_match(contraction):\n",
        "    contraction_mapping = {\n",
        "        \"isn't\": \"is not\",\n",
        "        \"aren't\": \"are not\",\n",
        "        \"con't\": \"cannot\",\n",
        "        \"can't've\": \"cannot have\",\n",
        "        \"you'll've\": \"your will have\",\n",
        "        \"you're\": \"you are\",\n",
        "        \"you've\": \"you have\"\n",
        "    }\n",
        "    match = contraction.group(0)\n",
        "    first_char = match[0]\n",
        "    expanded_contraction = contraction_mapping.get(match) \\\n",
        "        if contraction_mapping.get(match) \\\n",
        "        else contraction_mapping.get(match.lower())\n",
        "    expanded_contraction = first_char + expanded_contraction[1:]\n",
        "    return expanded_contraction"
      ],
      "metadata": {
        "id": "V6sKnEhk8biD"
      },
      "execution_count": null,
      "outputs": []
    },
    {
      "cell_type": "code",
      "source": [
        "def clean_tweets(text):\n",
        "    url_pattern = re.compile(r'(https?:\\/\\/(?:www\\.|(?!www))[a-zA-Z0-9][a-zA-Z0-9-]+[a-zA-Z0-9]\\.[^\\s]{2,}|https?:\\/\\/(?:www\\.|(?!www))'r'[a-zA-Z0-9]\\.[^\\s]{2,}|www\\.[a-zA-Z0-9]\\.[^\\s]{2,})')\n",
        "    emojis_pattern = re.compile(u'([\\U00002600-\\U000027BF])|([\\U0001f300-\\U0001f64F])|([\\U0001f680-\\U0001f6FF])')\n",
        "    hash_pattern = re.compile(r'#\\w*')\n",
        "    single_letter_pattern = re.compile(r'(?<![\\w\\-])\\w(?![\\w\\-])')\n",
        "    blank_spaces_pattern = re.compile(r'\\s{2,}|\\t')\n",
        "    reserved_pattern = re.compile(r'(RT|rt|FAV|fav|VIA|via)')\n",
        "    mention_pattern = re.compile(r'@\\w*')\n",
        "    CONTRACTION_MAP = {\n",
        "        \"isn't\": \"is not\",\n",
        "        \"aren't\": \"are not\",\n",
        "        \"con't\": \"cannot\",\n",
        "        \"can't've\": \"cannot have\",\n",
        "        \"you'll've\": \"your will have\",\n",
        "        \"you're\": \"you are\",\n",
        "        \"you've\": \"you have\"\n",
        "    }\n",
        "    constraction_pattern = re.compile('({})'.format('|'.join(CONTRACTION_MAP.keys())),\n",
        "                                        flags=re.IGNORECASE | re.DOTALL)\n",
        "    Whitespace = re.compile(u\"[\\s\\u0020\\u00a0\\u1680\\u180e\\u202f\\u205f\\u3000\\u2000-\\u200a]+\", re.UNICODE)\n",
        "    urls = re.sub(pattern=url_pattern, repl='', string=text)\n",
        "    mentions = re.sub(pattern=mention_pattern, repl='', string=urls)\n",
        "    hashtag = re.sub(pattern=hash_pattern, repl='', string=mentions)\n",
        "    reserved = re.sub(pattern=reserved_pattern, repl='', string=hashtag)\n",
        "    reserved = Whitespace.sub(\" \", reserved)\n",
        "    reserved = constraction_pattern.sub(expand_match, reserved)\n",
        "    punct = \"[{}]+\".format(string.punctuation)\n",
        "    punctuation = re.sub(punct, '', reserved)\n",
        "    single = re.sub(pattern=single_letter_pattern, repl='', string=punctuation)\n",
        "    blank = re.sub(pattern=blank_spaces_pattern, repl=' ', string=single)\n",
        "    blank = blank.lower()\n",
        "    # print blank\n",
        "    return blank.split()"
      ],
      "metadata": {
        "id": "EUncE1S3uTrZ"
      },
      "execution_count": null,
      "outputs": []
    },
    {
      "cell_type": "code",
      "metadata": {
        "id": "N3dNwzDi9vgN"
      },
      "source": [
        "def tweet_processing(raw_tweet):\n",
        "    words = clean_tweets(raw_tweet)\n",
        "    stops = set(stopwords.words(\"english\"))\n",
        "    m_w = [w for w in words if not w in stops]\n",
        "    return (\" \".join(m_w))"
      ],
      "execution_count": null,
      "outputs": []
    },
    {
      "cell_type": "code",
      "source": [
        "def process_df_tweet(data_df):\n",
        "    topic_data = data_df[~data_df['combined_label'].isnull()][['tweets', 'combined_label']] # label2, label3\n",
        "    num_tweets = topic_data[\"tweets\"].size\n",
        "    clean_tweet = []\n",
        "    for i in range(0,num_tweets):\n",
        "        clean_tweet.append(tweet_processing(topic_data[\"tweets\"][i]))\n",
        "    topic_data[\"tweet\"] = clean_tweet\n",
        "    topic_data[\"class\"] = topic_data[\"combined_label\"]\n",
        "    topic_data[\"class\"] = topic_data[\"class\"].astype(int)\n",
        "    return topic_data"
      ],
      "metadata": {
        "id": "7nsAAAM9Bamg"
      },
      "execution_count": null,
      "outputs": []
    },
    {
      "cell_type": "code",
      "metadata": {
        "id": "opOra7BL9vgO"
      },
      "source": [
        "# Clean tweets\n",
        "num_tweets = davidson_df[\"tweet\"].size\n",
        "clean_tweet = []\n",
        "for i in range(0,num_tweets):\n",
        "    clean_tweet.append(tweet_processing(davidson_df[\"tweet\"][i]))\n",
        "davidson_df[\"tweet\"] = clean_tweet\n",
        "\n",
        "# num_tweets_test = test_data[\"tweet\"].size\n",
        "# clean_tweet_test = []\n",
        "# for i in range(num_tweets, num_tweets + num_tweets_test):\n",
        "#     clean_tweet_test.append(tweet_processing(test_data[\"tweet\"][i]))\n",
        "# test_data[\"tweet\"]=clean_tweet_test"
      ],
      "execution_count": null,
      "outputs": []
    },
    {
      "cell_type": "code",
      "source": [
        "trump_data = process_df_tweet(df_trump)\n",
        "# df_lgbt['combined_label'] = df_lgbt['combined_labels']\n",
        "lgbt_data = process_df_tweet(df_lgbt)\n",
        "covid_data = process_df_tweet(df_covid)"
      ],
      "metadata": {
        "id": "gkDyPleEL_7N"
      },
      "execution_count": null,
      "outputs": []
    },
    {
      "cell_type": "markdown",
      "metadata": {
        "id": "7MS46yNX9vgR"
      },
      "source": [
        "## Deep Learning Models"
      ]
    },
    {
      "cell_type": "markdown",
      "metadata": {
        "id": "xxq30t5I9vgR"
      },
      "source": [
        "Let's make the data ready for training. We need to:\n",
        "\n",
        "- tokenize the sequence in words and assign each word in the vocabulary an index so we can relate it later on.\n",
        "- pad the vectorized sequence to have fixed unit\n",
        "- split the dataset into 80\\% training and 20% testing without shuffling in order to have a better comparison between the models of other collegues (i.e TFIDF and Deephate)"
      ]
    },
    {
      "cell_type": "code",
      "source": [
        "def process_data(data, max_len=50):\n",
        "    tokenizer = Tokenizer()\n",
        "    tokenizer.fit_on_texts(data['tokenized_sents'])\n",
        "    sequences = tokenizer.texts_to_sequences(data['tokenized_sents'])\n",
        "    # Pad the sequence in order to have max length...\n",
        "    x = pad_sequences(sequences, maxlen=max_len)\n",
        "    # Make one hot encoding for labeling part. Should be in input [1 0]\n",
        "    # It is similar to doing sth like that:\n",
        "    # data['hate_speech']=0\n",
        "    # data['offensive_language']=0\n",
        "    # data['neither']=0\n",
        "    # data['hate_speech'] = np.where(data['class'] == 0, 1, 0)\n",
        "    # data['offensive_language'] = np.where(data['class'] == 1, 1, 0)\n",
        "    # data['neither'] = np.where(data['class'] == 2, 1, 0)\n",
        "    # columns=['hate_speech','offensive_language','neither']\n",
        "    # y=data[columns].values\n",
        "    y = to_categorical(data['class'], num_classes=3)\n",
        "    # splitting the Dataset into Train and Test set\n",
        "    x_train, x_test, y_train, y_test=train_test_split(x,y,test_size=0.2,random_state=0, shuffle=False)\n",
        "    return x_train, x_test, y_train, y_test"
      ],
      "metadata": {
        "id": "DRSbNPV5Plgp"
      },
      "execution_count": null,
      "outputs": []
    },
    {
      "cell_type": "markdown",
      "metadata": {
        "id": "D82ATy7d9vgS"
      },
      "source": [
        "Tokenize the dataset and use this one to train the Word 2 vec model"
      ]
    },
    {
      "cell_type": "code",
      "source": [
        "def tokenize_pad_sequence(data, max_len=50):\n",
        "    tokenizer = Tokenizer()\n",
        "    tokenizer.fit_on_texts(data['tokenized_sents'])\n",
        "    sequences = tokenizer.texts_to_sequences(data['tokenized_sents'])\n",
        "    return pad_sequences(sequences, maxlen=max_len)"
      ],
      "metadata": {
        "id": "jpQMFzJ0E-aU"
      },
      "execution_count": null,
      "outputs": []
    },
    {
      "cell_type": "code",
      "metadata": {
        "id": "5HkzB-FW9vgS"
      },
      "source": [
        "davidson_df['tokenized_sents'] = davidson_df.apply(lambda column: word_tokenize(column['tweet']), axis=1)"
      ],
      "execution_count": null,
      "outputs": []
    },
    {
      "cell_type": "code",
      "source": [
        "trump_data['tokenized_sents'] = trump_data.apply(lambda column: word_tokenize(column['tweet']), axis=1)\n",
        "lgbt_data['tokenized_sents'] = lgbt_data.apply(lambda column: word_tokenize(column['tweet']), axis=1)\n",
        "covid_data['tokenized_sents'] = covid_data.apply(lambda column: word_tokenize(column['tweet']), axis=1)"
      ],
      "metadata": {
        "id": "8N4BY6mhRjFU"
      },
      "execution_count": null,
      "outputs": []
    },
    {
      "cell_type": "markdown",
      "source": [
        "Tokenize the sequence and then we pad. Acccording to the length distribution the max number of tweets was around 30-40. Hence we set it 50 during training to accound for any edge cases."
      ],
      "metadata": {
        "id": "YaNTXbI84QjE"
      }
    },
    {
      "cell_type": "code",
      "source": [
        "x_train, x_test, y_train, y_test = process_data(davidson_df)"
      ],
      "metadata": {
        "id": "sSOfzAp4f7F6"
      },
      "execution_count": null,
      "outputs": []
    },
    {
      "cell_type": "code",
      "source": [
        "trump_test = tokenize_pad_sequence(trump_data)\n",
        "lgbt_test = tokenize_pad_sequence(lgbt_data)\n",
        "covid_test = tokenize_pad_sequence(covid_data)"
      ],
      "metadata": {
        "id": "-tznt3GvXri5"
      },
      "execution_count": null,
      "outputs": []
    },
    {
      "cell_type": "markdown",
      "source": [
        "### Word Embeddings"
      ],
      "metadata": {
        "id": "Cx6gethX4Oag"
      }
    },
    {
      "cell_type": "markdown",
      "metadata": {
        "id": "Jsx8Pk5T9vgT"
      },
      "source": [
        "In KAGGLE Notebook we also made experiments with Embeddings. Here we will directly use word embeddings from Word2Vec model as this model will also be used to label controversial topics. We believe that embeddings provide more insights to the data than an actual normal one-hot encoding.\n",
        "\n",
        "In our experiments we will use WordEmbeddings to train the LSTM and BiLSTM model. To train a word2vec model."
      ]
    },
    {
      "cell_type": "code",
      "metadata": {
        "id": "CuTOSqRD9vgT"
      },
      "source": [
        "from gensim.models import Word2Vec\n",
        "\n",
        "# define training data from the davidson (data must be tokenized)\n",
        "sentences = davidson_df['tokenized_sents']\n",
        "# train model on davdsion dataset\n",
        "model = Word2Vec(sentences, size=200, window =4, min_count=1, sg=1)\n",
        "words = list(model.wv.vocab)\n",
        "\n",
        "# Store the model somewhere so you don't have to train it every time,\n",
        "# although for davidson dataset it does not take long to train\n",
        "model.save('davidson_Word2Vec.bin')\n",
        "\n",
        "# In case we have a pretrained model we can also use that to get word embeddings\n",
        "# And you can simply load like this. Uncomment the line if needed\n",
        "# model = Word2Vec.load('davidson_Word2Vec.bin')"
      ],
      "execution_count": null,
      "outputs": []
    },
    {
      "cell_type": "markdown",
      "source": [
        "Compare the words with other words in the dataset. For comparison cosine similarity is used between words vector representation."
      ],
      "metadata": {
        "id": "LtMVb26r0RXU"
      }
    },
    {
      "cell_type": "code",
      "source": [
        "# model.most_similar('lmao')"
      ],
      "metadata": {
        "id": "bwS6gHASSDoG"
      },
      "execution_count": null,
      "outputs": []
    },
    {
      "cell_type": "markdown",
      "metadata": {
        "id": "FB6oYaz_9vgU"
      },
      "source": [
        "Now it is time to create an embedding matrix based on the word embeddings we have."
      ]
    },
    {
      "cell_type": "code",
      "source": [
        "# Reference: https://github.com/pinkeshbadjatiya/twitter-hatespeech\n",
        "from string import punctuation\n",
        "from collections import defaultdict\n",
        "def get_vocab(data):\n",
        "    # Processing\n",
        "    vocab, reverse_vocab = {}, {}\n",
        "    freq = defaultdict(int)\n",
        "    vocab_index = 1\n",
        "    for text in data:\n",
        "        for word in text:\n",
        "            if word not in vocab:\n",
        "                vocab[word] = vocab_index\n",
        "                reverse_vocab[vocab_index] = word       # generate reverse vocab as well\n",
        "                vocab_index += 1\n",
        "            freq[word] += 1\n",
        "    vocab['UNK'] = len(vocab) + 1\n",
        "    reverse_vocab[len(vocab)] = 'UNK'\n",
        "    return vocab, reverse_vocab, freq"
      ],
      "metadata": {
        "id": "CtJzqyixHetC"
      },
      "execution_count": null,
      "outputs": []
    },
    {
      "cell_type": "code",
      "source": [
        "vocabulary, reverse_vocabulary, frequencies = get_vocab(davidson_df['tokenized_sents'])"
      ],
      "metadata": {
        "id": "Ev-bVYLaBplu"
      },
      "execution_count": null,
      "outputs": []
    },
    {
      "cell_type": "code",
      "metadata": {
        "colab": {
          "base_uri": "https://localhost:8080/"
        },
        "id": "M7XtHah59vgU",
        "outputId": "3031ffca-9b5b-4188-ce77-38ab1db09f32"
      },
      "source": [
        "vocab_size = len(vocabulary)\n",
        "print(vocab_size)\n",
        "embedding_matrix = np.zeros((vocab_size,200))\n",
        "\n",
        "for i in range(0,len(words)):\n",
        "    embedding_vector = model.wv[words[i]]\n",
        "    if embedding_vector is not None:\n",
        "        embedding_matrix[i] = embedding_vector\n",
        "embedding_matrix[vocab_size-1]= np.random.normal(scale=0.6, size=(200, ))"
      ],
      "execution_count": null,
      "outputs": [
        {
          "output_type": "stream",
          "name": "stdout",
          "text": [
            "20675\n"
          ]
        }
      ]
    },
    {
      "cell_type": "markdown",
      "metadata": {
        "id": "yMbeImam9vgY"
      },
      "source": [
        "Let's define our models and later to train them\n",
        "\n",
        "Since davidson has 3 main classes we will use a softmax activation fucntion.\n",
        "Then a dense layer with 3 units is defined. The model prodcues probabilistic values and later we can compare to define what is the class that is being outputed based on a threshold value e.g 0.5 or so\n",
        "\n",
        "Categorical cross entropy loss accounts for different classes and is used instead of binary cross entropy since there are multiple labels being classified."
      ]
    },
    {
      "cell_type": "code",
      "source": [
        "def get_lstm(vocab_size, embedding_matrix, input_size=50, embedding_size=200, trainable=True, hidden_unit=50):\n",
        "    # For davidson dataset I tried another approach.\n",
        "    # You can set trainable to False in order not to train embedding layer\n",
        "    inp = Input(shape=(input_size,))\n",
        "    if trainable is True:\n",
        "        x = Embedding(vocab_size, embedding_size, weights=[embedding_matrix], trainable=True)(inp)\n",
        "    else:\n",
        "        x = Embedding(vocab_size,200,weights=[embedding_matrix], trainable=False)(inp)\n",
        "    x = (LSTM(hidden_unit, return_sequences=True, dropout=0.2, recurrent_dropout=0.4))(x)\n",
        "    x = GlobalMaxPool1D()(x)\n",
        "    x = Dense(50)(x)\n",
        "    x = LeakyReLU(alpha=0.02)(x)\n",
        "    x = Dropout(0.2)(x)\n",
        "    x = Dense(3, activation='softmax')(x)\n",
        "    x = LeakyReLU(alpha=0.02)(x)\n",
        "    model = Model(inputs=inp, outputs=x)\n",
        "    model.compile(loss='categorical_crossentropy', optimizer='adam', metrics=['accuracy'])\n",
        "    model.summary()\n",
        "    return model"
      ],
      "metadata": {
        "id": "zPtXHVgf5jaF"
      },
      "execution_count": null,
      "outputs": []
    },
    {
      "cell_type": "code",
      "source": [
        "def get_bilstm(vocab_size, embedding_matrix, input_size=50, embedding_size=200, trainable=True, hidden_unit=50):\n",
        "    # For davidson dataset I tried another approach.\n",
        "    inp_bi = Input(shape=(input_size,))\n",
        "    if trainable is True:\n",
        "        x_bi = Embedding(vocab_size,embedding_size,weights=[embedding_matrix], trainable=True)(inp_bi)\n",
        "    else:\n",
        "        x_bi = Embedding(vocab_size,200,weights=[embedding_matrix], trainable=False)(inp_bi)\n",
        "    x_bi = Bidirectional(LSTM(hidden_unit, return_sequences=True, dropout=0.2, recurrent_dropout=0.4))(x_bi)\n",
        "    x_bi = GlobalMaxPool1D()(x_bi)\n",
        "    x_bi = Dense(50)(x_bi)\n",
        "    x_bi=LeakyReLU(alpha=0.02)(x_bi)\n",
        "    x_bi = Dropout(0.2)(x_bi)\n",
        "    x_bi = Dense(3, activation='softmax')(x_bi)\n",
        "    # x_bi=LeakyReLU(alpha=0.02)(x_bi)\n",
        "    model_bi = Model(inputs=inp_bi, outputs=x_bi)\n",
        "    model_bi.compile(loss='categorical_crossentropy', optimizer='adam', metrics=['accuracy'])\n",
        "    model_bi.summary()\n",
        "    return model_bi"
      ],
      "metadata": {
        "id": "8-FH1UMX7R8A"
      },
      "execution_count": null,
      "outputs": []
    },
    {
      "cell_type": "markdown",
      "source": [
        "Now we can define our training pipeline"
      ],
      "metadata": {
        "id": "UuniRuzw-WP4"
      }
    },
    {
      "cell_type": "code",
      "source": [
        "from sklearn.utils import class_weight\n",
        "def train_model(model, x_train, y_train, x_test, y_test, x_val=None, y_val=None, set_batch_size=64, num_epochs=10, scale_loss=False, early_stopping=True):\n",
        "    # Stop if the model overfits...\n",
        "    if early_stopping is True:\n",
        "        stop = EarlyStopping(\n",
        "            monitor='val_accuracy',\n",
        "            mode='max',\n",
        "            patience=5\n",
        "        )\n",
        "    # Save model logs during training to the specific folder\n",
        "    checkpoint= ModelCheckpoint(\n",
        "        filepath='./',\n",
        "        save_weights_only=True,\n",
        "        monitor='val_accuracy',\n",
        "        mode='max',\n",
        "        save_best_only=True\n",
        "    )\n",
        "    # Lets specify some weights for our class function\n",
        "    # since the dataset is not really balanced and may cause overfitting\n",
        "    class_weights = None\n",
        "    if scale_loss is True:\n",
        "        class_weights = {}\n",
        "        class_weights[0] = np.where(y_train == 0)[0].shape[0]/float(len(y_train))\n",
        "        class_weights[1] = np.where(y_train == 1)[0].shape[0]/float(len(y_train))\n",
        "        class_weights[2] = np.where(y_train == 2)[0].shape[0]/float(len(y_train))\n",
        "    callback = []\n",
        "    if early_stopping is True:\n",
        "        callback = [stop, checkpoint]\n",
        "    else:\n",
        "        callaback = [checkpoint]\n",
        "    # training the model\n",
        "    history = model.fit(x_train,\n",
        "                        y_train,\n",
        "                        class_weight=class_weights,\n",
        "                        validation_split=0.2,\n",
        "                        epochs=num_epochs,\n",
        "                        batch_size=set_batch_size,\n",
        "                        callbacks=callback)\n",
        "    # Visualizing training accuracy and loss per epoch to eliminate the potential threat of overfitting\n",
        "    plt.figure(figsize=(12, 8))\n",
        "    plt.subplot(1, 2, 1)\n",
        "    plt.plot(np.arange(len(history.history['accuracy'])), history.history['accuracy'], 'b', label='training acc')\n",
        "    plt.plot(np.arange(len(history.history['accuracy'])), history.history['val_accuracy'], 'c', label='val acc')\n",
        "    plt.title('Accuracy Plot')\n",
        "    plt.ylabel('Accuracy')\n",
        "    plt.xlabel('Epochs')\n",
        "    plt.legend(loc='best')\n",
        "    plt.subplot(1, 2, 2)\n",
        "    plt.plot(np.arange(len(history.history['accuracy'])), history.history['loss'], 'r', label='training loss')\n",
        "    plt.plot(np.arange(len(history.history['accuracy'])), history.history['val_loss'], 'g', label='val loss')\n",
        "    plt.legend(loc='best')\n",
        "    plt.title('Loss Plot')\n",
        "    plt.ylabel('Error/Loss')\n",
        "    plt.xlabel('Epochs')\n",
        "    plt.show()\n",
        "    # Evaluate the model on the test set and check the accuracy\n",
        "    evaluation = model.evaluate(x_test, y_test)\n",
        "    # predicting and getting accuracy\n",
        "    y_pred = model.predict(x_test)\n",
        "    y_pred = np.argmax(y_pred, axis=1)\n",
        "    # y_pred = [1 if prob==True else 0 for prob in y_pred]\n",
        "    print(classification_report(np.argmax(y_test, axis=1), y_pred))\n",
        "    precision_bi, recall_bi, fscore_bi, support_bi = precision_recall_fscore_support(np.argmax(y_test, axis=1), y_pred)\n",
        "    print('\\nAccuracy', accuracy_score(np.argmax(y_test, axis=1),y_pred))\n",
        "    print('LSTM: non hate - hate')\n",
        "    print('precision: {}'.format(precision_bi))\n",
        "    print('recall: {}'.format(recall_bi))\n",
        "    print('fscore: {}'.format(fscore_bi))\n",
        "    print('support: {}'.format(support_bi))\n",
        "    # getting confusion matrix\n",
        "    print('\\nConfusion Matrix: \\n', confusion_matrix(np.argmax(y_test, axis=1), y_pred))\n",
        "    return model"
      ],
      "metadata": {
        "id": "BQJ5UTbUaxVG"
      },
      "execution_count": null,
      "outputs": []
    },
    {
      "cell_type": "markdown",
      "source": [
        "#### Training Results and some experiments\n",
        "> Disclaimer: Notice that the results can change due to different number of parameter thay you may use. We have used different batch sizes and different epoch counts. Here are just samples from the training"
      ],
      "metadata": {
        "id": "m-IxjHvvE0xM"
      }
    },
    {
      "cell_type": "code",
      "source": [
        "lstm_model = get_lstm(vocab_size, embedding_matrix=embedding_matrix, input_size=x_train.shape[1])"
      ],
      "metadata": {
        "colab": {
          "base_uri": "https://localhost:8080/"
        },
        "id": "e_G-iGYbBgE5",
        "outputId": "9336e3a4-4337-4d84-802c-e9f02083321e"
      },
      "execution_count": null,
      "outputs": [
        {
          "output_type": "stream",
          "name": "stdout",
          "text": [
            "Model: \"model_3\"\n",
            "_________________________________________________________________\n",
            " Layer (type)                Output Shape              Param #   \n",
            "=================================================================\n",
            " input_4 (InputLayer)        [(None, 50)]              0         \n",
            "                                                                 \n",
            " embedding_3 (Embedding)     (None, 50, 200)           4135000   \n",
            "                                                                 \n",
            " lstm_3 (LSTM)               (None, 50, 50)            50200     \n",
            "                                                                 \n",
            " global_max_pooling1d_3 (Glo  (None, 50)               0         \n",
            " balMaxPooling1D)                                                \n",
            "                                                                 \n",
            " dense_6 (Dense)             (None, 50)                2550      \n",
            "                                                                 \n",
            " leaky_re_lu_4 (LeakyReLU)   (None, 50)                0         \n",
            "                                                                 \n",
            " dropout_3 (Dropout)         (None, 50)                0         \n",
            "                                                                 \n",
            " dense_7 (Dense)             (None, 3)                 153       \n",
            "                                                                 \n",
            " leaky_re_lu_5 (LeakyReLU)   (None, 3)                 0         \n",
            "                                                                 \n",
            "=================================================================\n",
            "Total params: 4,187,903\n",
            "Trainable params: 4,187,903\n",
            "Non-trainable params: 0\n",
            "_________________________________________________________________\n"
          ]
        }
      ]
    },
    {
      "cell_type": "code",
      "source": [
        "lstm_model_trained = train_model(lstm_model,\n",
        "                                 x_train,\n",
        "                                 y_train,\n",
        "                                 x_test,\n",
        "                                 y_test,\n",
        "                                 set_batch_size=256,\n",
        "                                 scale_loss=False,\n",
        "                                 num_epochs=6)\n",
        "#saving model\n",
        "lstm_model_trained.save('model_lstm.h5')"
      ],
      "metadata": {
        "colab": {
          "base_uri": "https://localhost:8080/",
          "height": 1000
        },
        "id": "GCXkROVcCoYL",
        "outputId": "e1d19d6d-6bff-4ade-e583-fa7f3723e042"
      },
      "execution_count": null,
      "outputs": [
        {
          "output_type": "stream",
          "name": "stdout",
          "text": [
            "Epoch 1/6\n",
            "62/62 [==============================] - 29s 416ms/step - loss: 0.7208 - accuracy: 0.7576 - val_loss: 0.6409 - val_accuracy: 0.7857\n",
            "Epoch 2/6\n",
            "62/62 [==============================] - 25s 397ms/step - loss: 0.6710 - accuracy: 0.7656 - val_loss: 0.5164 - val_accuracy: 0.8379\n",
            "Epoch 3/6\n",
            "62/62 [==============================] - 25s 401ms/step - loss: 0.4674 - accuracy: 0.8445 - val_loss: 0.3096 - val_accuracy: 0.9037\n",
            "Epoch 4/6\n",
            "62/62 [==============================] - 24s 394ms/step - loss: 0.3104 - accuracy: 0.8968 - val_loss: 0.2923 - val_accuracy: 0.9087\n",
            "Epoch 5/6\n",
            "62/62 [==============================] - 25s 402ms/step - loss: 0.2507 - accuracy: 0.9144 - val_loss: 0.3157 - val_accuracy: 0.9057\n",
            "Epoch 6/6\n",
            "62/62 [==============================] - 24s 393ms/step - loss: 0.2112 - accuracy: 0.9258 - val_loss: 0.3472 - val_accuracy: 0.8956\n"
          ]
        },
        {
          "output_type": "display_data",
          "data": {
            "image/png": "[encoded data removed]",
            "text/plain": [
              "<Figure size 864x576 with 2 Axes>"
            ]
          },
          "metadata": {
            "needs_background": "light"
          }
        },
        {
          "output_type": "stream",
          "name": "stdout",
          "text": [
            "155/155 [==============================] - 2s 15ms/step - loss: 0.3805 - accuracy: 0.8796\n",
            "              precision    recall  f1-score   support\n",
            "\n",
            "           0       0.15      0.11      0.12       234\n",
            "           1       0.93      0.95      0.94      3928\n",
            "           2       0.79      0.75      0.77       795\n",
            "\n",
            "    accuracy                           0.88      4957\n",
            "   macro avg       0.62      0.60      0.61      4957\n",
            "weighted avg       0.87      0.88      0.87      4957\n",
            "\n",
            "\n",
            "Accuracy 0.8795642525721202\n",
            "LSTM: non hate - hate\n",
            "precision: [0.14792899 0.9271556  0.78856383]\n",
            "recall: [0.10683761 0.95264766 0.74591195]\n",
            "fscore: [0.12406948 0.93972878 0.76664512]\n",
            "support: [ 234 3928  795]\n",
            "\n",
            "Confusion Matrix: \n",
            " [[  25  168   41]\n",
            " [  68 3742  118]\n",
            " [  76  126  593]]\n"
          ]
        }
      ]
    },
    {
      "cell_type": "code",
      "metadata": {
        "colab": {
          "base_uri": "https://localhost:8080/"
        },
        "id": "wZJpoHbu9vgY",
        "outputId": "eb6c14ae-3ffe-4227-bb74-73213e5190e7"
      },
      "source": [
        "# vocab_size = lunique words in the corpus genrated from word2vec genism\n",
        "lstm_embedding_model = get_lstm(vocab_size, embedding_matrix=embedding_matrix, input_size=x_train.shape[1], trainable=False)"
      ],
      "execution_count": null,
      "outputs": [
        {
          "output_type": "stream",
          "name": "stdout",
          "text": [
            "Model: \"model\"\n",
            "_________________________________________________________________\n",
            " Layer (type)                Output Shape              Param #   \n",
            "=================================================================\n",
            " input_1 (InputLayer)        [(None, 50)]              0         \n",
            "                                                                 \n",
            " embedding (Embedding)       (None, 50, 200)           4135000   \n",
            "                                                                 \n",
            " lstm (LSTM)                 (None, 50, 50)            50200     \n",
            "                                                                 \n",
            " global_max_pooling1d (Globa  (None, 50)               0         \n",
            " lMaxPooling1D)                                                  \n",
            "                                                                 \n",
            " dense (Dense)               (None, 50)                2550      \n",
            "                                                                 \n",
            " leaky_re_lu (LeakyReLU)     (None, 50)                0         \n",
            "                                                                 \n",
            " dropout (Dropout)           (None, 50)                0         \n",
            "                                                                 \n",
            " dense_1 (Dense)             (None, 3)                 153       \n",
            "                                                                 \n",
            " leaky_re_lu_1 (LeakyReLU)   (None, 3)                 0         \n",
            "                                                                 \n",
            "=================================================================\n",
            "Total params: 4,187,903\n",
            "Trainable params: 52,903\n",
            "Non-trainable params: 4,135,000\n",
            "_________________________________________________________________\n"
          ]
        }
      ]
    },
    {
      "cell_type": "code",
      "metadata": {
        "id": "Y9WLyIBm9vgY",
        "colab": {
          "base_uri": "https://localhost:8080/",
          "height": 1000
        },
        "outputId": "992cbcb1-7d3a-497a-97b1-37888e440bfe"
      },
      "source": [
        "lstm_model_embbedding_trained = train_model(lstm_embedding_model,\n",
        "                                 x_train,\n",
        "                                 y_train,\n",
        "                                 x_test,\n",
        "                                 y_test,\n",
        "                                 set_batch_size=32,\n",
        "                                 scale_loss=False,\n",
        "                                 num_epochs=100,\n",
        "                                 early_stopping=False)"
      ],
      "execution_count": null,
      "outputs": [
        {
          "output_type": "stream",
          "name": "stdout",
          "text": [
            "Epoch 1/100\n",
            "496/496 [==============================] - 45s 85ms/step - loss: 0.6853 - accuracy: 0.7653 - val_loss: 0.5953 - val_accuracy: 0.7920\n",
            "Epoch 2/100\n",
            "496/496 [==============================] - 43s 87ms/step - loss: 0.6710 - accuracy: 0.7686 - val_loss: 0.5913 - val_accuracy: 0.7950\n",
            "Epoch 3/100\n",
            "496/496 [==============================] - 41s 82ms/step - loss: 0.6687 - accuracy: 0.7672 - val_loss: 0.5861 - val_accuracy: 0.7955\n",
            "Epoch 4/100\n",
            "496/496 [==============================] - 41s 82ms/step - loss: 0.6659 - accuracy: 0.7686 - val_loss: 0.5988 - val_accuracy: 0.7965\n",
            "Epoch 5/100\n",
            "496/496 [==============================] - 41s 83ms/step - loss: 0.6638 - accuracy: 0.7697 - val_loss: 0.5933 - val_accuracy: 0.7882\n",
            "Epoch 6/100\n",
            "496/496 [==============================] - 41s 83ms/step - loss: 0.6644 - accuracy: 0.7703 - val_loss: 0.5856 - val_accuracy: 0.7932\n",
            "Epoch 7/100\n",
            "496/496 [==============================] - 41s 82ms/step - loss: 0.6631 - accuracy: 0.7705 - val_loss: 0.5767 - val_accuracy: 0.7985\n",
            "Epoch 8/100\n",
            "496/496 [==============================] - 41s 83ms/step - loss: 0.6612 - accuracy: 0.7691 - val_loss: 0.5803 - val_accuracy: 0.7963\n",
            "Epoch 9/100\n",
            "496/496 [==============================] - 41s 82ms/step - loss: 0.6564 - accuracy: 0.7701 - val_loss: 0.5653 - val_accuracy: 0.7965\n",
            "Epoch 10/100\n",
            "496/496 [==============================] - 41s 82ms/step - loss: 0.6541 - accuracy: 0.7693 - val_loss: 0.5578 - val_accuracy: 0.7988\n",
            "Epoch 11/100\n",
            "496/496 [==============================] - 41s 83ms/step - loss: 0.6475 - accuracy: 0.7701 - val_loss: 0.5528 - val_accuracy: 0.8023\n",
            "Epoch 12/100\n",
            "496/496 [==============================] - 41s 83ms/step - loss: 0.6415 - accuracy: 0.7701 - val_loss: 0.5393 - val_accuracy: 0.8001\n",
            "Epoch 13/100\n",
            "496/496 [==============================] - 41s 82ms/step - loss: 0.6378 - accuracy: 0.7721 - val_loss: 0.5294 - val_accuracy: 0.8053\n",
            "Epoch 14/100\n",
            "496/496 [==============================] - 41s 83ms/step - loss: 0.6339 - accuracy: 0.7714 - val_loss: 0.5291 - val_accuracy: 0.8036\n",
            "Epoch 15/100\n",
            "496/496 [==============================] - 41s 83ms/step - loss: 0.6293 - accuracy: 0.7723 - val_loss: 0.5234 - val_accuracy: 0.8021\n",
            "Epoch 16/100\n",
            "496/496 [==============================] - 41s 83ms/step - loss: 0.6269 - accuracy: 0.7728 - val_loss: 0.5341 - val_accuracy: 0.8048\n",
            "Epoch 17/100\n",
            "496/496 [==============================] - 44s 88ms/step - loss: 0.6237 - accuracy: 0.7734 - val_loss: 0.5143 - val_accuracy: 0.8099\n",
            "Epoch 18/100\n",
            "496/496 [==============================] - 41s 83ms/step - loss: 0.6185 - accuracy: 0.7767 - val_loss: 0.5066 - val_accuracy: 0.8064\n",
            "Epoch 19/100\n",
            "496/496 [==============================] - 42s 85ms/step - loss: 0.6185 - accuracy: 0.7777 - val_loss: 0.5085 - val_accuracy: 0.8096\n",
            "Epoch 20/100\n",
            "496/496 [==============================] - 41s 83ms/step - loss: 0.6123 - accuracy: 0.7806 - val_loss: 0.5011 - val_accuracy: 0.8273\n",
            "Epoch 21/100\n",
            "496/496 [==============================] - 41s 83ms/step - loss: 0.6074 - accuracy: 0.7811 - val_loss: 0.4943 - val_accuracy: 0.8313\n",
            "Epoch 22/100\n",
            "496/496 [==============================] - 41s 83ms/step - loss: 0.6069 - accuracy: 0.7808 - val_loss: 0.4862 - val_accuracy: 0.8308\n",
            "Epoch 23/100\n",
            "496/496 [==============================] - 41s 82ms/step - loss: 0.6021 - accuracy: 0.7861 - val_loss: 0.4878 - val_accuracy: 0.8326\n",
            "Epoch 24/100\n",
            "496/496 [==============================] - 41s 82ms/step - loss: 0.6007 - accuracy: 0.7842 - val_loss: 0.4875 - val_accuracy: 0.8326\n",
            "Epoch 25/100\n",
            "496/496 [==============================] - 41s 84ms/step - loss: 0.5949 - accuracy: 0.7849 - val_loss: 0.4818 - val_accuracy: 0.8273\n",
            "Epoch 26/100\n",
            "496/496 [==============================] - 41s 83ms/step - loss: 0.5951 - accuracy: 0.7852 - val_loss: 0.4838 - val_accuracy: 0.8222\n",
            "Epoch 27/100\n",
            "496/496 [==============================] - 41s 83ms/step - loss: 0.5882 - accuracy: 0.7874 - val_loss: 0.4743 - val_accuracy: 0.8379\n",
            "Epoch 28/100\n",
            "496/496 [==============================] - 41s 84ms/step - loss: 0.5829 - accuracy: 0.7904 - val_loss: 0.4633 - val_accuracy: 0.8303\n",
            "Epoch 29/100\n",
            "496/496 [==============================] - 42s 84ms/step - loss: 0.5805 - accuracy: 0.7907 - val_loss: 0.4625 - val_accuracy: 0.8442\n",
            "Epoch 30/100\n",
            "496/496 [==============================] - 41s 83ms/step - loss: 0.5725 - accuracy: 0.7919 - val_loss: 0.4531 - val_accuracy: 0.8485\n",
            "Epoch 31/100\n",
            "496/496 [==============================] - 42s 84ms/step - loss: 0.5717 - accuracy: 0.7936 - val_loss: 0.4655 - val_accuracy: 0.8459\n",
            "Epoch 32/100\n",
            "496/496 [==============================] - 41s 82ms/step - loss: 0.5662 - accuracy: 0.7914 - val_loss: 0.4470 - val_accuracy: 0.8480\n",
            "Epoch 33/100\n",
            "496/496 [==============================] - 42s 84ms/step - loss: 0.5627 - accuracy: 0.7968 - val_loss: 0.4485 - val_accuracy: 0.8469\n",
            "Epoch 34/100\n",
            "496/496 [==============================] - 41s 84ms/step - loss: 0.5609 - accuracy: 0.7945 - val_loss: 0.4372 - val_accuracy: 0.8502\n",
            "Epoch 35/100\n",
            "496/496 [==============================] - 41s 83ms/step - loss: 0.5603 - accuracy: 0.7962 - val_loss: 0.4434 - val_accuracy: 0.8427\n",
            "Epoch 36/100\n",
            "496/496 [==============================] - 41s 84ms/step - loss: 0.5575 - accuracy: 0.7991 - val_loss: 0.4463 - val_accuracy: 0.8522\n",
            "Epoch 37/100\n",
            "496/496 [==============================] - 41s 83ms/step - loss: 0.5552 - accuracy: 0.8004 - val_loss: 0.4508 - val_accuracy: 0.8535\n",
            "Epoch 38/100\n",
            "496/496 [==============================] - 41s 82ms/step - loss: 0.5520 - accuracy: 0.7991 - val_loss: 0.4379 - val_accuracy: 0.8492\n",
            "Epoch 39/100\n",
            "496/496 [==============================] - 41s 83ms/step - loss: 0.5489 - accuracy: 0.8023 - val_loss: 0.4278 - val_accuracy: 0.8538\n",
            "Epoch 40/100\n",
            "496/496 [==============================] - 41s 82ms/step - loss: 0.5450 - accuracy: 0.8009 - val_loss: 0.4409 - val_accuracy: 0.8555\n",
            "Epoch 41/100\n",
            "496/496 [==============================] - 41s 84ms/step - loss: 0.5468 - accuracy: 0.7997 - val_loss: 0.4472 - val_accuracy: 0.8530\n",
            "Epoch 42/100\n",
            "496/496 [==============================] - 41s 83ms/step - loss: 0.5485 - accuracy: 0.7988 - val_loss: 0.4276 - val_accuracy: 0.8545\n",
            "Epoch 43/100\n",
            "496/496 [==============================] - 41s 82ms/step - loss: 0.5469 - accuracy: 0.7987 - val_loss: 0.4390 - val_accuracy: 0.8548\n",
            "Epoch 44/100\n",
            "496/496 [==============================] - 41s 83ms/step - loss: 0.5419 - accuracy: 0.8027 - val_loss: 0.4273 - val_accuracy: 0.8535\n",
            "Epoch 45/100\n",
            "496/496 [==============================] - 42s 84ms/step - loss: 0.5380 - accuracy: 0.8037 - val_loss: 0.4180 - val_accuracy: 0.8543\n",
            "Epoch 46/100\n",
            "496/496 [==============================] - 42s 84ms/step - loss: 0.5396 - accuracy: 0.7987 - val_loss: 0.4213 - val_accuracy: 0.8545\n",
            "Epoch 47/100\n",
            "496/496 [==============================] - 41s 84ms/step - loss: 0.5391 - accuracy: 0.8038 - val_loss: 0.4217 - val_accuracy: 0.8500\n",
            "Epoch 48/100\n",
            "496/496 [==============================] - 44s 89ms/step - loss: 0.5344 - accuracy: 0.8021 - val_loss: 0.4203 - val_accuracy: 0.8495\n",
            "Epoch 49/100\n",
            "496/496 [==============================] - 42s 85ms/step - loss: 0.5379 - accuracy: 0.8029 - val_loss: 0.4301 - val_accuracy: 0.8580\n",
            "Epoch 50/100\n",
            "496/496 [==============================] - 42s 85ms/step - loss: 0.5355 - accuracy: 0.8013 - val_loss: 0.4144 - val_accuracy: 0.8522\n",
            "Epoch 51/100\n",
            "496/496 [==============================] - 42s 84ms/step - loss: 0.5319 - accuracy: 0.8023 - val_loss: 0.4158 - val_accuracy: 0.8591\n",
            "Epoch 52/100\n",
            "496/496 [==============================] - 42s 84ms/step - loss: 0.5294 - accuracy: 0.8061 - val_loss: 0.4105 - val_accuracy: 0.8543\n",
            "Epoch 53/100\n",
            "496/496 [==============================] - 41s 84ms/step - loss: 0.5289 - accuracy: 0.8072 - val_loss: 0.4071 - val_accuracy: 0.8570\n",
            "Epoch 54/100\n",
            "496/496 [==============================] - 42s 84ms/step - loss: 0.5257 - accuracy: 0.8061 - val_loss: 0.4393 - val_accuracy: 0.8348\n",
            "Epoch 55/100\n",
            "496/496 [==============================] - 42s 84ms/step - loss: 0.5271 - accuracy: 0.8046 - val_loss: 0.4079 - val_accuracy: 0.8591\n",
            "Epoch 56/100\n",
            "496/496 [==============================] - 41s 84ms/step - loss: 0.5258 - accuracy: 0.8045 - val_loss: 0.4126 - val_accuracy: 0.8583\n",
            "Epoch 57/100\n",
            "496/496 [==============================] - 41s 84ms/step - loss: 0.5243 - accuracy: 0.8084 - val_loss: 0.4180 - val_accuracy: 0.8583\n",
            "Epoch 58/100\n",
            "496/496 [==============================] - 41s 83ms/step - loss: 0.5255 - accuracy: 0.8067 - val_loss: 0.4164 - val_accuracy: 0.8583\n",
            "Epoch 59/100\n",
            "496/496 [==============================] - 42s 84ms/step - loss: 0.5254 - accuracy: 0.8064 - val_loss: 0.4106 - val_accuracy: 0.8596\n",
            "Epoch 60/100\n",
            "496/496 [==============================] - 42s 84ms/step - loss: 0.5219 - accuracy: 0.8054 - val_loss: 0.4140 - val_accuracy: 0.8548\n",
            "Epoch 61/100\n",
            "496/496 [==============================] - 42s 85ms/step - loss: 0.5223 - accuracy: 0.8081 - val_loss: 0.4129 - val_accuracy: 0.8588\n",
            "Epoch 62/100\n",
            "496/496 [==============================] - 41s 83ms/step - loss: 0.5222 - accuracy: 0.8074 - val_loss: 0.4272 - val_accuracy: 0.8580\n",
            "Epoch 63/100\n",
            "496/496 [==============================] - 44s 88ms/step - loss: 0.5173 - accuracy: 0.8088 - val_loss: 0.4077 - val_accuracy: 0.8580\n",
            "Epoch 64/100\n",
            "496/496 [==============================] - 41s 83ms/step - loss: 0.5207 - accuracy: 0.8100 - val_loss: 0.3990 - val_accuracy: 0.8613\n",
            "Epoch 65/100\n",
            "496/496 [==============================] - 42s 84ms/step - loss: 0.5176 - accuracy: 0.8098 - val_loss: 0.3945 - val_accuracy: 0.8613\n",
            "Epoch 66/100\n",
            "496/496 [==============================] - 42s 85ms/step - loss: 0.5146 - accuracy: 0.8101 - val_loss: 0.4063 - val_accuracy: 0.8540\n",
            "Epoch 67/100\n",
            "496/496 [==============================] - 42s 85ms/step - loss: 0.5130 - accuracy: 0.8092 - val_loss: 0.3924 - val_accuracy: 0.8601\n",
            "Epoch 68/100\n",
            "496/496 [==============================] - 42s 85ms/step - loss: 0.5166 - accuracy: 0.8084 - val_loss: 0.4042 - val_accuracy: 0.8583\n",
            "Epoch 69/100\n",
            "496/496 [==============================] - 42s 84ms/step - loss: 0.5095 - accuracy: 0.8088 - val_loss: 0.4015 - val_accuracy: 0.8633\n",
            "Epoch 70/100\n",
            "496/496 [==============================] - 42s 85ms/step - loss: 0.5137 - accuracy: 0.8092 - val_loss: 0.3950 - val_accuracy: 0.8611\n",
            "Epoch 71/100\n",
            "496/496 [==============================] - 43s 86ms/step - loss: 0.5111 - accuracy: 0.8107 - val_loss: 0.4004 - val_accuracy: 0.8628\n",
            "Epoch 72/100\n",
            "496/496 [==============================] - 43s 86ms/step - loss: 0.5111 - accuracy: 0.8104 - val_loss: 0.4016 - val_accuracy: 0.8616\n",
            "Epoch 73/100\n",
            "496/496 [==============================] - 42s 85ms/step - loss: 0.5094 - accuracy: 0.8078 - val_loss: 0.4010 - val_accuracy: 0.8621\n",
            "Epoch 74/100\n",
            "496/496 [==============================] - 42s 85ms/step - loss: 0.5098 - accuracy: 0.8094 - val_loss: 0.4062 - val_accuracy: 0.8535\n",
            "Epoch 75/100\n",
            "496/496 [==============================] - 42s 84ms/step - loss: 0.5084 - accuracy: 0.8117 - val_loss: 0.4017 - val_accuracy: 0.8548\n",
            "Epoch 76/100\n",
            "496/496 [==============================] - 42s 85ms/step - loss: 0.5044 - accuracy: 0.8112 - val_loss: 0.4006 - val_accuracy: 0.8669\n",
            "Epoch 77/100\n",
            "496/496 [==============================] - 43s 87ms/step - loss: 0.5069 - accuracy: 0.8122 - val_loss: 0.3956 - val_accuracy: 0.8638\n",
            "Epoch 78/100\n",
            "496/496 [==============================] - 43s 88ms/step - loss: 0.5042 - accuracy: 0.8120 - val_loss: 0.3968 - val_accuracy: 0.8543\n",
            "Epoch 79/100\n",
            "496/496 [==============================] - 43s 87ms/step - loss: 0.5075 - accuracy: 0.8080 - val_loss: 0.3948 - val_accuracy: 0.8646\n",
            "Epoch 80/100\n",
            "496/496 [==============================] - 44s 88ms/step - loss: 0.5029 - accuracy: 0.8132 - val_loss: 0.3899 - val_accuracy: 0.8628\n",
            "Epoch 81/100\n",
            "496/496 [==============================] - 45s 90ms/step - loss: 0.5024 - accuracy: 0.8127 - val_loss: 0.4001 - val_accuracy: 0.8656\n",
            "Epoch 82/100\n",
            "496/496 [==============================] - 43s 86ms/step - loss: 0.5025 - accuracy: 0.8120 - val_loss: 0.3833 - val_accuracy: 0.8649\n",
            "Epoch 83/100\n",
            "496/496 [==============================] - 42s 84ms/step - loss: 0.4988 - accuracy: 0.8142 - val_loss: 0.3925 - val_accuracy: 0.8621\n",
            "Epoch 84/100\n",
            "496/496 [==============================] - 42s 86ms/step - loss: 0.4981 - accuracy: 0.8152 - val_loss: 0.4061 - val_accuracy: 0.8638\n",
            "Epoch 85/100\n",
            "496/496 [==============================] - 42s 85ms/step - loss: 0.5008 - accuracy: 0.8135 - val_loss: 0.3863 - val_accuracy: 0.8616\n",
            "Epoch 86/100\n",
            "496/496 [==============================] - 42s 85ms/step - loss: 0.5003 - accuracy: 0.8118 - val_loss: 0.3810 - val_accuracy: 0.8666\n",
            "Epoch 87/100\n",
            "496/496 [==============================] - 42s 85ms/step - loss: 0.4992 - accuracy: 0.8146 - val_loss: 0.3876 - val_accuracy: 0.8707\n",
            "Epoch 88/100\n",
            "496/496 [==============================] - 42s 85ms/step - loss: 0.5017 - accuracy: 0.8122 - val_loss: 0.3885 - val_accuracy: 0.8588\n",
            "Epoch 89/100\n",
            "496/496 [==============================] - 42s 85ms/step - loss: 0.4982 - accuracy: 0.8116 - val_loss: 0.3878 - val_accuracy: 0.8669\n",
            "Epoch 90/100\n",
            "496/496 [==============================] - 42s 85ms/step - loss: 0.4961 - accuracy: 0.8162 - val_loss: 0.3822 - val_accuracy: 0.8643\n",
            "Epoch 91/100\n",
            "496/496 [==============================] - 43s 86ms/step - loss: 0.4969 - accuracy: 0.8177 - val_loss: 0.3876 - val_accuracy: 0.8611\n",
            "Epoch 92/100\n",
            "496/496 [==============================] - 42s 86ms/step - loss: 0.4964 - accuracy: 0.8148 - val_loss: 0.3848 - val_accuracy: 0.8618\n",
            "Epoch 93/100\n",
            "496/496 [==============================] - 43s 86ms/step - loss: 0.4960 - accuracy: 0.8143 - val_loss: 0.3876 - val_accuracy: 0.8679\n",
            "Epoch 94/100\n",
            "496/496 [==============================] - 43s 87ms/step - loss: 0.4977 - accuracy: 0.8149 - val_loss: 0.3871 - val_accuracy: 0.8643\n",
            "Epoch 95/100\n",
            "496/496 [==============================] - 43s 86ms/step - loss: 0.4922 - accuracy: 0.8171 - val_loss: 0.3901 - val_accuracy: 0.8596\n",
            "Epoch 96/100\n",
            "496/496 [==============================] - 42s 85ms/step - loss: 0.4952 - accuracy: 0.8154 - val_loss: 0.3813 - val_accuracy: 0.8671\n",
            "Epoch 97/100\n",
            "496/496 [==============================] - 42s 85ms/step - loss: 0.4915 - accuracy: 0.8165 - val_loss: 0.4020 - val_accuracy: 0.8656\n",
            "Epoch 98/100\n",
            "496/496 [==============================] - 43s 87ms/step - loss: 0.4906 - accuracy: 0.8160 - val_loss: 0.3920 - val_accuracy: 0.8613\n",
            "Epoch 99/100\n",
            "496/496 [==============================] - 42s 85ms/step - loss: 0.4924 - accuracy: 0.8153 - val_loss: 0.3910 - val_accuracy: 0.8628\n",
            "Epoch 100/100\n",
            "496/496 [==============================] - 42s 85ms/step - loss: 0.4872 - accuracy: 0.8189 - val_loss: 0.3839 - val_accuracy: 0.8669\n"
          ]
        },
        {
          "output_type": "display_data",
          "data": {
            "image/png": "[encoded data removed]",
            "text/plain": [
              "<Figure size 864x576 with 2 Axes>"
            ]
          },
          "metadata": {
            "needs_background": "light"
          }
        },
        {
          "output_type": "stream",
          "name": "stdout",
          "text": [
            "155/155 [==============================] - 3s 16ms/step - loss: 0.4330 - accuracy: 0.8396\n",
            "              precision    recall  f1-score   support\n",
            "\n",
            "           0       0.00      0.00      0.00       234\n",
            "           1       0.89      0.93      0.91      3928\n",
            "           2       0.60      0.63      0.61       795\n",
            "\n",
            "    accuracy                           0.84      4957\n",
            "   macro avg       0.50      0.52      0.51      4957\n",
            "weighted avg       0.80      0.84      0.82      4957\n",
            "\n",
            "\n",
            "Accuracy 0.8396207383498083\n",
            "LSTM: non hate - hate\n",
            "precision: [0.         0.88735465 0.602657  ]\n",
            "recall: [0.         0.93253564 0.62767296]\n",
            "fscore: [0.         0.90938431 0.61491066]\n",
            "support: [ 234 3928  795]\n",
            "\n",
            "Confusion Matrix: \n",
            " [[   0  169   65]\n",
            " [   1 3663  264]\n",
            " [   0  296  499]]\n"
          ]
        }
      ]
    },
    {
      "cell_type": "code",
      "source": [
        "# This is an old run of the method training LSTM without training embedding layer.\n",
        "# It achieved around 90% accuracy and the training has a tendency to go down."
      ],
      "metadata": {
        "colab": {
          "base_uri": "https://localhost:8080/",
          "height": 404
        },
        "id": "LMq7dKMhVVws",
        "outputId": "cf9e1d7a-3904-4fc2-da3e-aa8aa4e465f5"
      },
      "execution_count": null,
      "outputs": [
        {
          "output_type": "display_data",
          "data": {
            "image/png": "[encoded data removed]",
            "text/plain": [
              "<Figure size 1152x432 with 2 Axes>"
            ]
          },
          "metadata": {
            "needs_background": "light"
          }
        }
      ]
    },
    {
      "cell_type": "markdown",
      "metadata": {
        "id": "k-3gwMf49vgY"
      },
      "source": [
        "__Training a BiLSTM model__"
      ]
    },
    {
      "cell_type": "code",
      "metadata": {
        "colab": {
          "base_uri": "https://localhost:8080/"
        },
        "outputId": "71b0a58c-d5cb-44cc-fd75-00aaa5dee595",
        "id": "zZ9VtikNjSJy"
      },
      "source": [
        "# vocab_size = lunique words in the corpus genrated from word2vec genism\n",
        "bilstm_model = get_bilstm(vocab_size, embedding_matrix=embedding_matrix, input_size=x_train.shape[1])"
      ],
      "execution_count": null,
      "outputs": [
        {
          "output_type": "stream",
          "name": "stdout",
          "text": [
            "Model: \"model_2\"\n",
            "_________________________________________________________________\n",
            " Layer (type)                Output Shape              Param #   \n",
            "=================================================================\n",
            " input_3 (InputLayer)        [(None, 50)]              0         \n",
            "                                                                 \n",
            " embedding_2 (Embedding)     (None, 50, 200)           4135000   \n",
            "                                                                 \n",
            " bidirectional_1 (Bidirectio  (None, 50, 100)          100400    \n",
            " nal)                                                            \n",
            "                                                                 \n",
            " global_max_pooling1d_2 (Glo  (None, 100)              0         \n",
            " balMaxPooling1D)                                                \n",
            "                                                                 \n",
            " dense_4 (Dense)             (None, 50)                5050      \n",
            "                                                                 \n",
            " leaky_re_lu_3 (LeakyReLU)   (None, 50)                0         \n",
            "                                                                 \n",
            " dropout_2 (Dropout)         (None, 50)                0         \n",
            "                                                                 \n",
            " dense_5 (Dense)             (None, 3)                 153       \n",
            "                                                                 \n",
            "=================================================================\n",
            "Total params: 4,240,603\n",
            "Trainable params: 4,240,603\n",
            "Non-trainable params: 0\n",
            "_________________________________________________________________\n"
          ]
        }
      ]
    },
    {
      "cell_type": "code",
      "metadata": {
        "colab": {
          "base_uri": "https://localhost:8080/",
          "height": 1000
        },
        "outputId": "f94b6597-1116-494a-9872-79c3f89c8c6b",
        "id": "fBPkbgKAjSJz"
      },
      "source": [
        "bilstm_model_trained = train_model(bilstm_model,\n",
        "                                 x_train,\n",
        "                                 y_train,\n",
        "                                 x_test,\n",
        "                                 y_test,\n",
        "                                 set_batch_size=254,\n",
        "                                 scale_loss=False,\n",
        "                                 num_epochs=6,\n",
        "                                 early_stopping=True)"
      ],
      "execution_count": null,
      "outputs": [
        {
          "output_type": "stream",
          "name": "stdout",
          "text": [
            "Epoch 1/6\n",
            "63/63 [==============================] - 55s 757ms/step - loss: 0.7009 - accuracy: 0.7641 - val_loss: 0.5935 - val_accuracy: 0.7857\n",
            "Epoch 2/6\n",
            "63/63 [==============================] - 48s 755ms/step - loss: 0.5101 - accuracy: 0.8164 - val_loss: 0.3394 - val_accuracy: 0.9085\n",
            "Epoch 3/6\n",
            "63/63 [==============================] - 48s 767ms/step - loss: 0.3620 - accuracy: 0.8830 - val_loss: 0.3042 - val_accuracy: 0.9027\n",
            "Epoch 4/6\n",
            "63/63 [==============================] - 48s 756ms/step - loss: 0.2952 - accuracy: 0.9011 - val_loss: 0.2784 - val_accuracy: 0.9097\n",
            "Epoch 5/6\n",
            "63/63 [==============================] - 47s 742ms/step - loss: 0.2471 - accuracy: 0.9177 - val_loss: 0.2722 - val_accuracy: 0.9105\n",
            "Epoch 6/6\n",
            "63/63 [==============================] - 47s 743ms/step - loss: 0.1702 - accuracy: 0.9421 - val_loss: 0.2849 - val_accuracy: 0.9105\n"
          ]
        },
        {
          "output_type": "display_data",
          "data": {
            "image/png": "[encoded data removed]",
            "text/plain": [
              "<Figure size 864x576 with 2 Axes>"
            ]
          },
          "metadata": {
            "needs_background": "light"
          }
        },
        {
          "output_type": "stream",
          "name": "stdout",
          "text": [
            "155/155 [==============================] - 4s 27ms/step - loss: 0.3373 - accuracy: 0.8925\n",
            "              precision    recall  f1-score   support\n",
            "\n",
            "           0       0.37      0.23      0.28       234\n",
            "           1       0.94      0.94      0.94      3928\n",
            "           2       0.77      0.84      0.81       795\n",
            "\n",
            "    accuracy                           0.89      4957\n",
            "   macro avg       0.69      0.67      0.68      4957\n",
            "weighted avg       0.88      0.89      0.89      4957\n",
            "\n",
            "\n",
            "Accuracy 0.8924752874722615\n",
            "LSTM: non hate - hate\n",
            "precision: [0.36551724 0.93746835 0.774942  ]\n",
            "recall: [0.22649573 0.94271894 0.84025157]\n",
            "fscore: [0.27968338 0.94008632 0.8062764 ]\n",
            "support: [ 234 3928  795]\n",
            "\n",
            "Confusion Matrix: \n",
            " [[  53  135   46]\n",
            " [  77 3703  148]\n",
            " [  15  112  668]]\n"
          ]
        }
      ]
    },
    {
      "cell_type": "code",
      "source": [
        "# bilstm_model_trained.save('model_bilstm.h5')"
      ],
      "metadata": {
        "id": "eM5xVo7bPO2t"
      },
      "execution_count": null,
      "outputs": []
    },
    {
      "cell_type": "code",
      "source": [
        "# This is an old run of the method training BiLSTM without training embedding layer.\n",
        "# It achieved around 90% accuracy and the training has a tendency to go down."
      ],
      "metadata": {
        "colab": {
          "base_uri": "https://localhost:8080/",
          "height": 404
        },
        "id": "QjOWUtT7ZSYN",
        "outputId": "f9fb66ea-5985-41fe-d7c8-bd472ed9dd0d"
      },
      "execution_count": null,
      "outputs": [
        {
          "output_type": "display_data",
          "data": {
            "image/png": "[encoded data removed]",
            "text/plain": [
              "<Figure size 1296x432 with 2 Axes>"
            ]
          },
          "metadata": {
            "needs_background": "light"
          }
        }
      ]
    },
    {
      "cell_type": "markdown",
      "source": [
        "Let's also test the bilstm without changing the embedding weights for davidson"
      ],
      "metadata": {
        "id": "DrSPQXdjxPhK"
      }
    },
    {
      "cell_type": "code",
      "metadata": {
        "colab": {
          "base_uri": "https://localhost:8080/"
        },
        "outputId": "bb03c575-6f3d-4230-cb53-e0f58d4f2f65",
        "id": "i_payLphxNnR"
      },
      "source": [
        "# vocab_size = lunique words in the corpus genrated from word2vec genism\n",
        "bilstm_model_embeddings = get_bilstm(vocab_size, embedding_matrix=embedding_matrix, input_size=x_train.shape[1], trainable=False)"
      ],
      "execution_count": null,
      "outputs": [
        {
          "output_type": "stream",
          "name": "stdout",
          "text": [
            "Model: \"model_4\"\n",
            "_________________________________________________________________\n",
            " Layer (type)                Output Shape              Param #   \n",
            "=================================================================\n",
            " input_5 (InputLayer)        [(None, 50)]              0         \n",
            "                                                                 \n",
            " embedding_4 (Embedding)     (None, 50, 200)           4135000   \n",
            "                                                                 \n",
            " bidirectional_2 (Bidirectio  (None, 50, 100)          100400    \n",
            " nal)                                                            \n",
            "                                                                 \n",
            " global_max_pooling1d_4 (Glo  (None, 100)              0         \n",
            " balMaxPooling1D)                                                \n",
            "                                                                 \n",
            " dense_8 (Dense)             (None, 50)                5050      \n",
            "                                                                 \n",
            " leaky_re_lu_6 (LeakyReLU)   (None, 50)                0         \n",
            "                                                                 \n",
            " dropout_4 (Dropout)         (None, 50)                0         \n",
            "                                                                 \n",
            " dense_9 (Dense)             (None, 3)                 153       \n",
            "                                                                 \n",
            "=================================================================\n",
            "Total params: 4,240,603\n",
            "Trainable params: 105,603\n",
            "Non-trainable params: 4,135,000\n",
            "_________________________________________________________________\n"
          ]
        }
      ]
    },
    {
      "cell_type": "code",
      "metadata": {
        "colab": {
          "base_uri": "https://localhost:8080/",
          "height": 1000
        },
        "outputId": "65523742-117e-4355-81f7-dfbd8e87deb3",
        "id": "7Z0qrRK8xNnT"
      },
      "source": [
        "bilstm_model_embedding_trained = train_model(bilstm_model_embeddings,\n",
        "                                 x_train,\n",
        "                                 y_train,\n",
        "                                 x_test,\n",
        "                                 y_test,\n",
        "                                 set_batch_size=256,\n",
        "                                 scale_loss=False,\n",
        "                                 num_epochs=100,\n",
        "                                 early_stopping=False)"
      ],
      "execution_count": null,
      "outputs": [
        {
          "output_type": "stream",
          "name": "stdout",
          "text": [
            "Epoch 1/100\n",
            "62/62 [==============================] - 40s 648ms/step - loss: 0.6618 - accuracy: 0.7689 - val_loss: 0.5894 - val_accuracy: 0.7945\n",
            "Epoch 2/100\n",
            "62/62 [==============================] - 40s 641ms/step - loss: 0.6609 - accuracy: 0.7701 - val_loss: 0.5894 - val_accuracy: 0.7978\n",
            "Epoch 3/100\n",
            "62/62 [==============================] - 40s 647ms/step - loss: 0.6591 - accuracy: 0.7710 - val_loss: 0.5853 - val_accuracy: 0.7945\n",
            "Epoch 4/100\n",
            "62/62 [==============================] - 40s 648ms/step - loss: 0.6576 - accuracy: 0.7709 - val_loss: 0.5876 - val_accuracy: 0.7970\n",
            "Epoch 5/100\n",
            "62/62 [==============================] - 40s 638ms/step - loss: 0.6536 - accuracy: 0.7710 - val_loss: 0.5717 - val_accuracy: 0.7968\n",
            "Epoch 6/100\n",
            "62/62 [==============================] - 40s 648ms/step - loss: 0.6492 - accuracy: 0.7726 - val_loss: 0.5612 - val_accuracy: 0.7995\n",
            "Epoch 7/100\n",
            "62/62 [==============================] - 40s 641ms/step - loss: 0.6454 - accuracy: 0.7707 - val_loss: 0.5755 - val_accuracy: 0.7995\n",
            "Epoch 8/100\n",
            "62/62 [==============================] - 40s 646ms/step - loss: 0.6414 - accuracy: 0.7722 - val_loss: 0.5529 - val_accuracy: 0.8013\n",
            "Epoch 9/100\n",
            "62/62 [==============================] - 40s 640ms/step - loss: 0.6367 - accuracy: 0.7741 - val_loss: 0.5507 - val_accuracy: 0.8018\n",
            "Epoch 10/100\n",
            "62/62 [==============================] - 41s 662ms/step - loss: 0.6343 - accuracy: 0.7749 - val_loss: 0.5382 - val_accuracy: 0.8071\n",
            "Epoch 11/100\n",
            "62/62 [==============================] - 40s 653ms/step - loss: 0.6321 - accuracy: 0.7752 - val_loss: 0.5336 - val_accuracy: 0.8048\n",
            "Epoch 12/100\n",
            "62/62 [==============================] - 40s 646ms/step - loss: 0.6295 - accuracy: 0.7766 - val_loss: 0.5330 - val_accuracy: 0.8106\n",
            "Epoch 13/100\n",
            "62/62 [==============================] - 40s 645ms/step - loss: 0.6287 - accuracy: 0.7782 - val_loss: 0.5373 - val_accuracy: 0.8157\n",
            "Epoch 14/100\n",
            "62/62 [==============================] - 40s 643ms/step - loss: 0.6264 - accuracy: 0.7772 - val_loss: 0.5253 - val_accuracy: 0.8192\n",
            "Epoch 15/100\n",
            "62/62 [==============================] - 40s 641ms/step - loss: 0.6237 - accuracy: 0.7774 - val_loss: 0.5189 - val_accuracy: 0.8142\n",
            "Epoch 16/100\n",
            "62/62 [==============================] - 40s 645ms/step - loss: 0.6236 - accuracy: 0.7776 - val_loss: 0.5221 - val_accuracy: 0.8174\n",
            "Epoch 17/100\n",
            "62/62 [==============================] - 39s 635ms/step - loss: 0.6181 - accuracy: 0.7816 - val_loss: 0.5264 - val_accuracy: 0.8139\n",
            "Epoch 18/100\n",
            "62/62 [==============================] - 40s 652ms/step - loss: 0.6141 - accuracy: 0.7844 - val_loss: 0.5166 - val_accuracy: 0.8144\n",
            "Epoch 19/100\n",
            "62/62 [==============================] - 41s 656ms/step - loss: 0.6144 - accuracy: 0.7820 - val_loss: 0.5103 - val_accuracy: 0.8172\n",
            "Epoch 20/100\n",
            "62/62 [==============================] - 42s 671ms/step - loss: 0.6130 - accuracy: 0.7831 - val_loss: 0.5206 - val_accuracy: 0.8119\n",
            "Epoch 21/100\n",
            "62/62 [==============================] - 41s 655ms/step - loss: 0.6127 - accuracy: 0.7813 - val_loss: 0.5187 - val_accuracy: 0.8220\n",
            "Epoch 22/100\n",
            "62/62 [==============================] - 42s 675ms/step - loss: 0.6088 - accuracy: 0.7842 - val_loss: 0.5085 - val_accuracy: 0.8162\n",
            "Epoch 23/100\n",
            "62/62 [==============================] - 42s 675ms/step - loss: 0.6088 - accuracy: 0.7840 - val_loss: 0.5095 - val_accuracy: 0.8235\n",
            "Epoch 24/100\n",
            "62/62 [==============================] - 41s 663ms/step - loss: 0.6067 - accuracy: 0.7842 - val_loss: 0.5045 - val_accuracy: 0.8144\n",
            "Epoch 25/100\n",
            "62/62 [==============================] - 43s 690ms/step - loss: 0.6041 - accuracy: 0.7843 - val_loss: 0.5065 - val_accuracy: 0.8195\n",
            "Epoch 26/100\n",
            "62/62 [==============================] - 41s 660ms/step - loss: 0.6037 - accuracy: 0.7859 - val_loss: 0.4957 - val_accuracy: 0.8263\n",
            "Epoch 27/100\n",
            "62/62 [==============================] - 40s 645ms/step - loss: 0.6034 - accuracy: 0.7847 - val_loss: 0.5013 - val_accuracy: 0.8245\n",
            "Epoch 28/100\n",
            "62/62 [==============================] - 40s 645ms/step - loss: 0.6058 - accuracy: 0.7847 - val_loss: 0.5021 - val_accuracy: 0.8197\n",
            "Epoch 29/100\n",
            "62/62 [==============================] - 40s 645ms/step - loss: 0.6014 - accuracy: 0.7858 - val_loss: 0.4899 - val_accuracy: 0.8263\n",
            "Epoch 30/100\n",
            "62/62 [==============================] - 44s 707ms/step - loss: 0.5987 - accuracy: 0.7853 - val_loss: 0.5031 - val_accuracy: 0.8172\n",
            "Epoch 31/100\n",
            "62/62 [==============================] - 42s 682ms/step - loss: 0.5997 - accuracy: 0.7852 - val_loss: 0.4960 - val_accuracy: 0.8212\n",
            "Epoch 32/100\n",
            "62/62 [==============================] - 41s 659ms/step - loss: 0.5954 - accuracy: 0.7873 - val_loss: 0.5017 - val_accuracy: 0.8162\n",
            "Epoch 33/100\n",
            "62/62 [==============================] - 40s 647ms/step - loss: 0.5946 - accuracy: 0.7869 - val_loss: 0.4922 - val_accuracy: 0.8215\n",
            "Epoch 34/100\n",
            "62/62 [==============================] - 40s 651ms/step - loss: 0.5927 - accuracy: 0.7890 - val_loss: 0.4879 - val_accuracy: 0.8265\n",
            "Epoch 35/100\n",
            "62/62 [==============================] - 40s 653ms/step - loss: 0.5908 - accuracy: 0.7880 - val_loss: 0.4944 - val_accuracy: 0.8217\n",
            "Epoch 36/100\n",
            "62/62 [==============================] - 40s 644ms/step - loss: 0.5891 - accuracy: 0.7916 - val_loss: 0.4852 - val_accuracy: 0.8273\n",
            "Epoch 37/100\n",
            "62/62 [==============================] - 40s 639ms/step - loss: 0.5878 - accuracy: 0.7895 - val_loss: 0.4916 - val_accuracy: 0.8227\n",
            "Epoch 38/100\n",
            "62/62 [==============================] - 39s 636ms/step - loss: 0.5852 - accuracy: 0.7904 - val_loss: 0.4872 - val_accuracy: 0.8250\n",
            "Epoch 39/100\n",
            "62/62 [==============================] - 40s 649ms/step - loss: 0.5830 - accuracy: 0.7888 - val_loss: 0.4948 - val_accuracy: 0.8280\n",
            "Epoch 40/100\n",
            "62/62 [==============================] - 40s 646ms/step - loss: 0.5869 - accuracy: 0.7892 - val_loss: 0.4836 - val_accuracy: 0.8331\n",
            "Epoch 41/100\n",
            "62/62 [==============================] - 40s 650ms/step - loss: 0.5809 - accuracy: 0.7905 - val_loss: 0.4889 - val_accuracy: 0.8265\n",
            "Epoch 42/100\n",
            "62/62 [==============================] - 41s 655ms/step - loss: 0.5747 - accuracy: 0.7948 - val_loss: 0.4714 - val_accuracy: 0.8311\n",
            "Epoch 43/100\n",
            "62/62 [==============================] - 40s 644ms/step - loss: 0.5750 - accuracy: 0.7939 - val_loss: 0.4814 - val_accuracy: 0.8268\n",
            "Epoch 44/100\n",
            "62/62 [==============================] - 40s 650ms/step - loss: 0.5765 - accuracy: 0.7929 - val_loss: 0.4728 - val_accuracy: 0.8338\n",
            "Epoch 45/100\n",
            "62/62 [==============================] - 42s 675ms/step - loss: 0.5749 - accuracy: 0.7928 - val_loss: 0.4758 - val_accuracy: 0.8376\n",
            "Epoch 46/100\n",
            "62/62 [==============================] - 40s 651ms/step - loss: 0.5716 - accuracy: 0.7939 - val_loss: 0.4642 - val_accuracy: 0.8323\n",
            "Epoch 47/100\n",
            "62/62 [==============================] - 42s 672ms/step - loss: 0.5706 - accuracy: 0.7948 - val_loss: 0.4647 - val_accuracy: 0.8459\n",
            "Epoch 48/100\n",
            "62/62 [==============================] - 40s 652ms/step - loss: 0.5642 - accuracy: 0.7964 - val_loss: 0.4565 - val_accuracy: 0.8399\n",
            "Epoch 49/100\n",
            "62/62 [==============================] - 40s 647ms/step - loss: 0.5646 - accuracy: 0.7965 - val_loss: 0.4713 - val_accuracy: 0.8285\n",
            "Epoch 50/100\n",
            "62/62 [==============================] - 40s 644ms/step - loss: 0.5635 - accuracy: 0.7959 - val_loss: 0.4582 - val_accuracy: 0.8381\n",
            "Epoch 51/100\n",
            "62/62 [==============================] - 40s 644ms/step - loss: 0.5604 - accuracy: 0.7993 - val_loss: 0.4548 - val_accuracy: 0.8432\n",
            "Epoch 52/100\n",
            "62/62 [==============================] - 40s 644ms/step - loss: 0.5578 - accuracy: 0.8009 - val_loss: 0.4504 - val_accuracy: 0.8419\n",
            "Epoch 53/100\n",
            "62/62 [==============================] - 40s 643ms/step - loss: 0.5544 - accuracy: 0.8042 - val_loss: 0.4559 - val_accuracy: 0.8354\n",
            "Epoch 54/100\n",
            "62/62 [==============================] - 40s 644ms/step - loss: 0.5516 - accuracy: 0.8037 - val_loss: 0.4470 - val_accuracy: 0.8480\n",
            "Epoch 55/100\n",
            "62/62 [==============================] - 40s 645ms/step - loss: 0.5486 - accuracy: 0.8026 - val_loss: 0.4470 - val_accuracy: 0.8449\n",
            "Epoch 56/100\n",
            "62/62 [==============================] - 40s 644ms/step - loss: 0.5483 - accuracy: 0.8016 - val_loss: 0.4408 - val_accuracy: 0.8573\n",
            "Epoch 57/100\n",
            "62/62 [==============================] - 40s 649ms/step - loss: 0.5477 - accuracy: 0.8040 - val_loss: 0.4401 - val_accuracy: 0.8447\n",
            "Epoch 58/100\n",
            "62/62 [==============================] - 41s 658ms/step - loss: 0.5493 - accuracy: 0.8028 - val_loss: 0.4408 - val_accuracy: 0.8548\n",
            "Epoch 59/100\n",
            "62/62 [==============================] - 41s 658ms/step - loss: 0.5446 - accuracy: 0.8057 - val_loss: 0.4444 - val_accuracy: 0.8555\n",
            "Epoch 60/100\n",
            "62/62 [==============================] - 40s 643ms/step - loss: 0.5455 - accuracy: 0.8028 - val_loss: 0.4353 - val_accuracy: 0.8553\n",
            "Epoch 61/100\n",
            "62/62 [==============================] - 40s 648ms/step - loss: 0.5460 - accuracy: 0.8032 - val_loss: 0.4606 - val_accuracy: 0.8265\n",
            "Epoch 62/100\n",
            "62/62 [==============================] - 40s 649ms/step - loss: 0.5409 - accuracy: 0.8071 - val_loss: 0.4380 - val_accuracy: 0.8591\n",
            "Epoch 63/100\n",
            "62/62 [==============================] - 40s 647ms/step - loss: 0.5379 - accuracy: 0.8041 - val_loss: 0.4474 - val_accuracy: 0.8616\n",
            "Epoch 64/100\n",
            "62/62 [==============================] - 40s 651ms/step - loss: 0.5371 - accuracy: 0.8057 - val_loss: 0.4311 - val_accuracy: 0.8550\n",
            "Epoch 65/100\n",
            "62/62 [==============================] - 39s 637ms/step - loss: 0.5382 - accuracy: 0.8066 - val_loss: 0.4232 - val_accuracy: 0.8568\n",
            "Epoch 66/100\n",
            "62/62 [==============================] - 40s 653ms/step - loss: 0.5356 - accuracy: 0.8057 - val_loss: 0.4228 - val_accuracy: 0.8598\n",
            "Epoch 67/100\n",
            "62/62 [==============================] - 40s 643ms/step - loss: 0.5346 - accuracy: 0.8086 - val_loss: 0.4233 - val_accuracy: 0.8608\n",
            "Epoch 68/100\n",
            "62/62 [==============================] - 41s 659ms/step - loss: 0.5318 - accuracy: 0.8056 - val_loss: 0.4250 - val_accuracy: 0.8588\n",
            "Epoch 69/100\n",
            "62/62 [==============================] - 41s 662ms/step - loss: 0.5351 - accuracy: 0.8052 - val_loss: 0.4244 - val_accuracy: 0.8626\n",
            "Epoch 70/100\n",
            "62/62 [==============================] - 41s 654ms/step - loss: 0.5290 - accuracy: 0.8077 - val_loss: 0.4244 - val_accuracy: 0.8575\n",
            "Epoch 71/100\n",
            "62/62 [==============================] - 41s 658ms/step - loss: 0.5275 - accuracy: 0.8105 - val_loss: 0.4238 - val_accuracy: 0.8623\n",
            "Epoch 72/100\n",
            "62/62 [==============================] - 40s 648ms/step - loss: 0.5304 - accuracy: 0.8091 - val_loss: 0.4194 - val_accuracy: 0.8626\n",
            "Epoch 73/100\n",
            "62/62 [==============================] - 40s 650ms/step - loss: 0.5232 - accuracy: 0.8103 - val_loss: 0.4234 - val_accuracy: 0.8611\n",
            "Epoch 74/100\n",
            "62/62 [==============================] - 41s 665ms/step - loss: 0.5253 - accuracy: 0.8105 - val_loss: 0.4162 - val_accuracy: 0.8631\n",
            "Epoch 75/100\n",
            "62/62 [==============================] - 40s 649ms/step - loss: 0.5259 - accuracy: 0.8115 - val_loss: 0.4215 - val_accuracy: 0.8626\n",
            "Epoch 76/100\n",
            "62/62 [==============================] - 40s 651ms/step - loss: 0.5194 - accuracy: 0.8120 - val_loss: 0.4216 - val_accuracy: 0.8603\n",
            "Epoch 77/100\n",
            "62/62 [==============================] - 40s 648ms/step - loss: 0.5180 - accuracy: 0.8115 - val_loss: 0.4155 - val_accuracy: 0.8585\n",
            "Epoch 78/100\n",
            "62/62 [==============================] - 40s 647ms/step - loss: 0.5200 - accuracy: 0.8123 - val_loss: 0.4160 - val_accuracy: 0.8616\n",
            "Epoch 79/100\n",
            "62/62 [==============================] - 40s 646ms/step - loss: 0.5186 - accuracy: 0.8129 - val_loss: 0.4113 - val_accuracy: 0.8618\n",
            "Epoch 80/100\n",
            "62/62 [==============================] - 40s 643ms/step - loss: 0.5160 - accuracy: 0.8152 - val_loss: 0.4235 - val_accuracy: 0.8654\n",
            "Epoch 81/100\n",
            "62/62 [==============================] - 40s 645ms/step - loss: 0.5211 - accuracy: 0.8126 - val_loss: 0.4153 - val_accuracy: 0.8621\n",
            "Epoch 82/100\n",
            "62/62 [==============================] - 42s 677ms/step - loss: 0.5237 - accuracy: 0.8120 - val_loss: 0.4209 - val_accuracy: 0.8636\n",
            "Epoch 83/100\n",
            "62/62 [==============================] - 40s 652ms/step - loss: 0.5172 - accuracy: 0.8133 - val_loss: 0.4192 - val_accuracy: 0.8603\n",
            "Epoch 84/100\n",
            "62/62 [==============================] - 40s 650ms/step - loss: 0.5135 - accuracy: 0.8140 - val_loss: 0.4127 - val_accuracy: 0.8631\n",
            "Epoch 85/100\n",
            "62/62 [==============================] - 40s 647ms/step - loss: 0.5098 - accuracy: 0.8142 - val_loss: 0.4092 - val_accuracy: 0.8618\n",
            "Epoch 86/100\n",
            "62/62 [==============================] - 40s 648ms/step - loss: 0.5123 - accuracy: 0.8122 - val_loss: 0.4082 - val_accuracy: 0.8628\n",
            "Epoch 87/100\n",
            "62/62 [==============================] - 40s 651ms/step - loss: 0.5110 - accuracy: 0.8132 - val_loss: 0.4088 - val_accuracy: 0.8649\n",
            "Epoch 88/100\n",
            "62/62 [==============================] - 41s 656ms/step - loss: 0.5142 - accuracy: 0.8141 - val_loss: 0.4104 - val_accuracy: 0.8585\n",
            "Epoch 89/100\n",
            "62/62 [==============================] - 41s 670ms/step - loss: 0.5112 - accuracy: 0.8170 - val_loss: 0.4114 - val_accuracy: 0.8618\n",
            "Epoch 90/100\n",
            "62/62 [==============================] - 42s 677ms/step - loss: 0.5105 - accuracy: 0.8136 - val_loss: 0.4115 - val_accuracy: 0.8580\n",
            "Epoch 91/100\n",
            "62/62 [==============================] - 40s 650ms/step - loss: 0.5080 - accuracy: 0.8178 - val_loss: 0.4070 - val_accuracy: 0.8646\n",
            "Epoch 92/100\n",
            "62/62 [==============================] - 41s 654ms/step - loss: 0.5090 - accuracy: 0.8157 - val_loss: 0.4130 - val_accuracy: 0.8548\n",
            "Epoch 93/100\n",
            "62/62 [==============================] - 40s 646ms/step - loss: 0.5126 - accuracy: 0.8142 - val_loss: 0.4077 - val_accuracy: 0.8603\n",
            "Epoch 94/100\n",
            "62/62 [==============================] - 41s 659ms/step - loss: 0.5025 - accuracy: 0.8166 - val_loss: 0.4042 - val_accuracy: 0.8641\n",
            "Epoch 95/100\n",
            "62/62 [==============================] - 41s 661ms/step - loss: 0.5057 - accuracy: 0.8165 - val_loss: 0.4076 - val_accuracy: 0.8591\n",
            "Epoch 96/100\n",
            "62/62 [==============================] - 41s 657ms/step - loss: 0.5045 - accuracy: 0.8165 - val_loss: 0.4053 - val_accuracy: 0.8633\n",
            "Epoch 97/100\n",
            "62/62 [==============================] - 43s 701ms/step - loss: 0.5063 - accuracy: 0.8148 - val_loss: 0.4140 - val_accuracy: 0.8636\n",
            "Epoch 98/100\n",
            "62/62 [==============================] - 41s 657ms/step - loss: 0.5035 - accuracy: 0.8189 - val_loss: 0.4069 - val_accuracy: 0.8623\n",
            "Epoch 99/100\n",
            "62/62 [==============================] - 42s 672ms/step - loss: 0.5012 - accuracy: 0.8187 - val_loss: 0.4025 - val_accuracy: 0.8638\n",
            "Epoch 100/100\n",
            "62/62 [==============================] - 41s 658ms/step - loss: 0.4996 - accuracy: 0.8197 - val_loss: 0.4222 - val_accuracy: 0.8661\n"
          ]
        },
        {
          "output_type": "display_data",
          "data": {
            "image/png": "[encoded data removed]",
            "text/plain": [
              "<Figure size 864x576 with 2 Axes>"
            ]
          },
          "metadata": {
            "needs_background": "light"
          }
        },
        {
          "output_type": "stream",
          "name": "stdout",
          "text": [
            "155/155 [==============================] - 4s 28ms/step - loss: 0.4684 - accuracy: 0.8422\n",
            "              precision    recall  f1-score   support\n",
            "\n",
            "           0       0.00      0.00      0.00       234\n",
            "           1       0.88      0.94      0.91      3928\n",
            "           2       0.63      0.59      0.61       795\n",
            "\n",
            "    accuracy                           0.84      4957\n",
            "   macro avg       0.50      0.51      0.51      4957\n",
            "weighted avg       0.80      0.84      0.82      4957\n",
            "\n",
            "\n",
            "Accuracy 0.8422432923138995\n",
            "LSTM: non hate - hate\n",
            "precision: [0.         0.87936357 0.63270777]\n",
            "recall: [0.         0.94271894 0.59371069]\n",
            "fscore: [0.         0.9099398  0.61258923]\n",
            "support: [ 234 3928  795]\n",
            "\n",
            "Confusion Matrix: \n",
            " [[   0  185   49]\n",
            " [   0 3703  225]\n",
            " [   0  323  472]]\n"
          ]
        },
        {
          "output_type": "stream",
          "name": "stderr",
          "text": [
            "/usr/local/lib/python3.7/dist-packages/sklearn/metrics/_classification.py:1318: UndefinedMetricWarning: Precision and F-score are ill-defined and being set to 0.0 in labels with no predicted samples. Use `zero_division` parameter to control this behavior.\n",
            "  _warn_prf(average, modifier, msg_start, len(result))\n",
            "/usr/local/lib/python3.7/dist-packages/sklearn/metrics/_classification.py:1318: UndefinedMetricWarning: Precision and F-score are ill-defined and being set to 0.0 in labels with no predicted samples. Use `zero_division` parameter to control this behavior.\n",
            "  _warn_prf(average, modifier, msg_start, len(result))\n",
            "/usr/local/lib/python3.7/dist-packages/sklearn/metrics/_classification.py:1318: UndefinedMetricWarning: Precision and F-score are ill-defined and being set to 0.0 in labels with no predicted samples. Use `zero_division` parameter to control this behavior.\n",
            "  _warn_prf(average, modifier, msg_start, len(result))\n",
            "/usr/local/lib/python3.7/dist-packages/sklearn/metrics/_classification.py:1318: UndefinedMetricWarning: Precision and F-score are ill-defined and being set to 0.0 in labels with no predicted samples. Use `zero_division` parameter to control this behavior.\n",
            "  _warn_prf(average, modifier, msg_start, len(result))\n"
          ]
        }
      ]
    },
    {
      "cell_type": "markdown",
      "source": [
        "### Testing and Controversial Topic Analysis"
      ],
      "metadata": {
        "id": "K0gLYzzJugQS"
      }
    },
    {
      "cell_type": "markdown",
      "metadata": {
        "id": "qe3NAPvd9vgY"
      },
      "source": [
        "Lets see how the models work in practice. We will test them with our test set. And check the values below."
      ]
    },
    {
      "cell_type": "markdown",
      "source": [
        "### Evaluation Results on the dataset"
      ],
      "metadata": {
        "id": "YjDNJ4Dmuf5Z"
      }
    },
    {
      "cell_type": "code",
      "metadata": {
        "id": "OQd78A329vgY"
      },
      "source": [
        "predicted_lstm = lstm_model_trained.predict(x_test)\n",
        "predicted_lstm_embeddings = lstm_model_embbedding_trained.predict(x_test)\n",
        "predicted_bi = bilstm_model_trained.predict(x_test)\n",
        "predicted_bi_embeddings = bilstm_model_embedding_trained.predict(x_test)"
      ],
      "execution_count": null,
      "outputs": []
    },
    {
      "cell_type": "code",
      "metadata": {
        "id": "GgKE9uZr9vgY"
      },
      "source": [
        "dataframe_lstm = pd.DataFrame.from_records(predicted_lstm)\n",
        "dataframe_lstm_embeddings = pd.DataFrame.from_records(predicted_lstm_embeddings)\n",
        "dataframe_bi = pd.DataFrame.from_records(predicted_bi)\n",
        "dataframe_bi_embeddings = pd.DataFrame.from_records(predicted_bi_embeddings)"
      ],
      "execution_count": null,
      "outputs": []
    },
    {
      "cell_type": "code",
      "source": [
        "dataframe_lstm.head()"
      ],
      "metadata": {
        "colab": {
          "base_uri": "https://localhost:8080/",
          "height": 206
        },
        "id": "apz4b5RYK4lQ",
        "outputId": "857722a0-7c6e-474e-9471-3348246d767a"
      },
      "execution_count": null,
      "outputs": [
        {
          "output_type": "execute_result",
          "data": {
            "text/html": [
              "\n",
              "  <div id=\"df-64954926-6ee6-4e77-8686-8ef1a828aab6\">\n",
              "    <div class=\"colab-df-container\">\n",
              "      <div>\n",
              "<style scoped>\n",
              "    .dataframe tbody tr th:only-of-type {\n",
              "        vertical-align: middle;\n",
              "    }\n",
              "\n",
              "    .dataframe tbody tr th {\n",
              "        vertical-align: top;\n",
              "    }\n",
              "\n",
              "    .dataframe thead th {\n",
              "        text-align: right;\n",
              "    }\n",
              "</style>\n",
              "<table border=\"1\" class=\"dataframe\">\n",
              "  <thead>\n",
              "    <tr style=\"text-align: right;\">\n",
              "      <th></th>\n",
              "      <th>0</th>\n",
              "      <th>1</th>\n",
              "      <th>2</th>\n",
              "    </tr>\n",
              "  </thead>\n",
              "  <tbody>\n",
              "    <tr>\n",
              "      <th>0</th>\n",
              "      <td>0.063121</td>\n",
              "      <td>0.014685</td>\n",
              "      <td>0.922194</td>\n",
              "    </tr>\n",
              "    <tr>\n",
              "      <th>1</th>\n",
              "      <td>0.011683</td>\n",
              "      <td>0.988115</td>\n",
              "      <td>0.000202</td>\n",
              "    </tr>\n",
              "    <tr>\n",
              "      <th>2</th>\n",
              "      <td>0.018067</td>\n",
              "      <td>0.981616</td>\n",
              "      <td>0.000317</td>\n",
              "    </tr>\n",
              "    <tr>\n",
              "      <th>3</th>\n",
              "      <td>0.017359</td>\n",
              "      <td>0.982161</td>\n",
              "      <td>0.000480</td>\n",
              "    </tr>\n",
              "    <tr>\n",
              "      <th>4</th>\n",
              "      <td>0.044635</td>\n",
              "      <td>0.009255</td>\n",
              "      <td>0.946110</td>\n",
              "    </tr>\n",
              "  </tbody>\n",
              "</table>\n",
              "</div>\n",
              "      <button class=\"colab-df-convert\" onclick=\"convertToInteractive('df-64954926-6ee6-4e77-8686-8ef1a828aab6')\"\n",
              "              title=\"Convert this dataframe to an interactive table.\"\n",
              "              style=\"display:none;\">\n",
              "        \n",
              "  <svg xmlns=\"http://www.w3.org/2000/svg\" height=\"24px\"viewBox=\"0 0 24 24\"\n",
              "       width=\"24px\">\n",
              "    <path d=\"M0 0h24v24H0V0z\" fill=\"none\"/>\n",
              "    <path d=\"M18.56 5.44l.94 2.06.94-2.06 2.06-.94-2.06-.94-.94-2.06-.94 2.06-2.06.94zm-11 1L8.5 8.5l.94-2.06 2.06-.94-2.06-.94L8.5 2.5l-.94 2.06-2.06.94zm10 10l.94 2.06.94-2.06 2.06-.94-2.06-.94-.94-2.06-.94 2.06-2.06.94z\"/><path d=\"M17.41 7.96l-1.37-1.37c-.4-.4-.92-.59-1.43-.59-.52 0-1.04.2-1.43.59L10.3 9.45l-7.72 7.72c-.78.78-.78 2.05 0 2.83L4 21.41c.39.39.9.59 1.41.59.51 0 1.02-.2 1.41-.59l7.78-7.78 2.81-2.81c.8-.78.8-2.07 0-2.86zM5.41 20L4 18.59l7.72-7.72 1.47 1.35L5.41 20z\"/>\n",
              "  </svg>\n",
              "      </button>\n",
              "      \n",
              "  <style>\n",
              "    .colab-df-container {\n",
              "      display:flex;\n",
              "      flex-wrap:wrap;\n",
              "      gap: 12px;\n",
              "    }\n",
              "\n",
              "    .colab-df-convert {\n",
              "      background-color: #E8F0FE;\n",
              "      border: none;\n",
              "      border-radius: 50%;\n",
              "      cursor: pointer;\n",
              "      display: none;\n",
              "      fill: #1967D2;\n",
              "      height: 32px;\n",
              "      padding: 0 0 0 0;\n",
              "      width: 32px;\n",
              "    }\n",
              "\n",
              "    .colab-df-convert:hover {\n",
              "      background-color: #E2EBFA;\n",
              "      box-shadow: 0px 1px 2px rgba(60, 64, 67, 0.3), 0px 1px 3px 1px rgba(60, 64, 67, 0.15);\n",
              "      fill: #174EA6;\n",
              "    }\n",
              "\n",
              "    [theme=dark] .colab-df-convert {\n",
              "      background-color: #3B4455;\n",
              "      fill: #D2E3FC;\n",
              "    }\n",
              "\n",
              "    [theme=dark] .colab-df-convert:hover {\n",
              "      background-color: #434B5C;\n",
              "      box-shadow: 0px 1px 3px 1px rgba(0, 0, 0, 0.15);\n",
              "      filter: drop-shadow(0px 1px 2px rgba(0, 0, 0, 0.3));\n",
              "      fill: #FFFFFF;\n",
              "    }\n",
              "  </style>\n",
              "\n",
              "      <script>\n",
              "        const buttonEl =\n",
              "          document.querySelector('#df-64954926-6ee6-4e77-8686-8ef1a828aab6 button.colab-df-convert');\n",
              "        buttonEl.style.display =\n",
              "          google.colab.kernel.accessAllowed ? 'block' : 'none';\n",
              "\n",
              "        async function convertToInteractive(key) {\n",
              "          const element = document.querySelector('#df-64954926-6ee6-4e77-8686-8ef1a828aab6');\n",
              "          const dataTable =\n",
              "            await google.colab.kernel.invokeFunction('convertToInteractive',\n",
              "                                                     [key], {});\n",
              "          if (!dataTable) return;\n",
              "\n",
              "          const docLinkHtml = 'Like what you see? Visit the ' +\n",
              "            '<a target=\"_blank\" href=https://colab.research.google.com/notebooks/data_table.ipynb>data table notebook</a>'\n",
              "            + ' to learn more about interactive tables.';\n",
              "          element.innerHTML = '';\n",
              "          dataTable['output_type'] = 'display_data';\n",
              "          await google.colab.output.renderOutput(dataTable, element);\n",
              "          const docLink = document.createElement('div');\n",
              "          docLink.innerHTML = docLinkHtml;\n",
              "          element.appendChild(docLink);\n",
              "        }\n",
              "      </script>\n",
              "    </div>\n",
              "  </div>\n",
              "  "
            ],
            "text/plain": [
              "          0         1         2\n",
              "0  0.063121  0.014685  0.922194\n",
              "1  0.011683  0.988115  0.000202\n",
              "2  0.018067  0.981616  0.000317\n",
              "3  0.017359  0.982161  0.000480\n",
              "4  0.044635  0.009255  0.946110"
            ]
          },
          "metadata": {},
          "execution_count": 48
        }
      ]
    },
    {
      "cell_type": "markdown",
      "metadata": {
        "id": "yynu3JjF9vga"
      },
      "source": [
        "Get label function creates appropriate labels according to  predictions. Predicted class is stored in a column of dataframe"
      ]
    },
    {
      "cell_type": "code",
      "metadata": {
        "id": "dFgftQI79vga"
      },
      "source": [
        "def get_label(df):\n",
        "    if ((df[0] > df[1]) & (df[0] > df[2])):\n",
        "        return 0\n",
        "    elif ((df[1] > df[0]) & (df[1] > df[2])):\n",
        "        return 1\n",
        "    else:\n",
        "        return 2\n",
        "\n",
        "        # np.argmax(y_pred, axis=1)\n",
        "\n",
        "dataframe_lstm['predClass'] = dataframe_lstm.apply(lambda row: get_label(row), axis=1)\n",
        "dataframe_lstm_embeddings['predClass'] = dataframe_lstm_embeddings.apply(lambda row: get_label(row), axis=1)\n",
        "\n",
        "dataframe_bi['predClass'] = dataframe_bi.apply(lambda row: get_label(row), axis=1)\n",
        "dataframe_bi_embeddings['predClass'] = dataframe_bi_embeddings.apply(lambda row: get_label(row), axis=1)"
      ],
      "execution_count": null,
      "outputs": []
    },
    {
      "cell_type": "markdown",
      "metadata": {
        "id": "l_eXsZtk9vga"
      },
      "source": [
        "__LSTM and BiLSTM score__"
      ]
    },
    {
      "cell_type": "code",
      "source": [
        "precision_lstm, recall_lstm, fscore_lstm, support_lstm = precision_recall_fscore_support(np.argmax(y_test, axis=1), dataframe_lstm['predClass'])\n",
        "print('Classes LSTM: hate - offensive - neither')\n",
        "print('precision: {}'.format(precision_lstm))\n",
        "print('recall: {}'.format(recall_lstm))\n",
        "print('fscore: {}'.format(fscore_lstm))\n",
        "print('support: {}'.format(support_lstm))\n",
        "precision_bi, recall_bi, fscore_bi, support_bi = precision_recall_fscore_support(np.argmax(y_test, axis=1), dataframe_bi['predClass'])\n",
        "print('Classes BILSTM: hate - offensive - neither')\n",
        "print('precision: {}'.format(precision_bi))\n",
        "print('recall: {}'.format(recall_bi))\n",
        "print('fscore: {}'.format(fscore_bi))\n",
        "print('support: {}'.format(support_bi))\n",
        "\n",
        "\n",
        "print('\\n\\nComparison to Trained Embeddings\\n\\n')\n",
        "precision_lstm, recall_lstm, fscore_lstm, support_lstm = precision_recall_fscore_support(np.argmax(y_test, axis=1), dataframe_lstm_embeddings['predClass'])\n",
        "print('Classes Embeddings LSTM: hate - offensive - neither')\n",
        "print('precision: {}'.format(precision_lstm))\n",
        "print('recall: {}'.format(recall_lstm))\n",
        "print('fscore: {}'.format(fscore_lstm))\n",
        "print('support: {}'.format(support_lstm))\n",
        "precision_bi, recall_bi, fscore_bi, support_bi = precision_recall_fscore_support(np.argmax(y_test, axis=1), dataframe_bi_embeddings['predClass'])\n",
        "print('Classes Embeddings BILSTM: hate - offensive - neither')\n",
        "print('precision: {}'.format(precision_bi))\n",
        "print('recall: {}'.format(recall_bi))\n",
        "print('fscore: {}'.format(fscore_bi))\n",
        "print('support: {}'.format(support_bi))"
      ],
      "metadata": {
        "colab": {
          "base_uri": "https://localhost:8080/"
        },
        "id": "XD49Mo-mF64e",
        "outputId": "87bdd55d-5b2f-419b-e91d-d1efc43ccfdd"
      },
      "execution_count": null,
      "outputs": [
        {
          "output_type": "stream",
          "name": "stdout",
          "text": [
            "Classes LSTM: hate - offensive - neither\n",
            "precision: [0.14792899 0.9271556  0.78856383]\n",
            "recall: [0.10683761 0.95264766 0.74591195]\n",
            "fscore: [0.12406948 0.93972878 0.76664512]\n",
            "support: [ 234 3928  795]\n",
            "Classes BILSTM: hate - offensive - neither\n",
            "precision: [0.36551724 0.93746835 0.774942  ]\n",
            "recall: [0.22649573 0.94271894 0.84025157]\n",
            "fscore: [0.27968338 0.94008632 0.8062764 ]\n",
            "support: [ 234 3928  795]\n",
            "\n",
            "\n",
            "Comparison to Trained Embeddings\n",
            "\n",
            "\n",
            "Classes Embeddings LSTM: hate - offensive - neither\n",
            "precision: [0.         0.88735465 0.602657  ]\n",
            "recall: [0.         0.93253564 0.62767296]\n",
            "fscore: [0.         0.90938431 0.61491066]\n",
            "support: [ 234 3928  795]\n",
            "Classes Embeddings BILSTM: hate - offensive - neither\n",
            "precision: [0.         0.87936357 0.63270777]\n",
            "recall: [0.         0.94271894 0.59371069]\n",
            "fscore: [0.         0.9099398  0.61258923]\n",
            "support: [ 234 3928  795]\n"
          ]
        },
        {
          "output_type": "stream",
          "name": "stderr",
          "text": [
            "/usr/local/lib/python3.7/dist-packages/sklearn/metrics/_classification.py:1318: UndefinedMetricWarning: Precision and F-score are ill-defined and being set to 0.0 in labels with no predicted samples. Use `zero_division` parameter to control this behavior.\n",
            "  _warn_prf(average, modifier, msg_start, len(result))\n"
          ]
        }
      ]
    },
    {
      "cell_type": "code",
      "source": [
        "print(classification_report(np.argmax(y_test, axis=1), dataframe_lstm['predClass']))\n",
        "print('\\nConfusion Matrix: \\n', confusion_matrix(np.argmax(y_test, axis=1), dataframe_lstm['predClass']))"
      ],
      "metadata": {
        "colab": {
          "base_uri": "https://localhost:8080/"
        },
        "id": "H2NmcLsKZ4wq",
        "outputId": "3d1da397-a254-4abf-b362-155acc3bfe2b"
      },
      "execution_count": null,
      "outputs": [
        {
          "output_type": "stream",
          "name": "stdout",
          "text": [
            "              precision    recall  f1-score   support\n",
            "\n",
            "           0       0.15      0.11      0.12       234\n",
            "           1       0.93      0.95      0.94      3928\n",
            "           2       0.79      0.75      0.77       795\n",
            "\n",
            "    accuracy                           0.88      4957\n",
            "   macro avg       0.62      0.60      0.61      4957\n",
            "weighted avg       0.87      0.88      0.87      4957\n",
            "\n",
            "\n",
            "Confusion Matrix: \n",
            " [[  25  168   41]\n",
            " [  68 3742  118]\n",
            " [  76  126  593]]\n"
          ]
        }
      ]
    },
    {
      "cell_type": "code",
      "source": [
        "print(classification_report(np.argmax(y_test, axis=1), dataframe_lstm_embeddings['predClass']))\n",
        "print('\\nConfusion Matrix: \\n', confusion_matrix(np.argmax(y_test, axis=1), dataframe_lstm_embeddings['predClass']))"
      ],
      "metadata": {
        "colab": {
          "base_uri": "https://localhost:8080/"
        },
        "id": "4RA8hvSYiBYd",
        "outputId": "f5a6e11f-234b-4a32-f1de-a2e928e7fc03"
      },
      "execution_count": null,
      "outputs": [
        {
          "output_type": "stream",
          "name": "stdout",
          "text": [
            "              precision    recall  f1-score   support\n",
            "\n",
            "           0       0.00      0.00      0.00       234\n",
            "           1       0.89      0.93      0.91      3928\n",
            "           2       0.60      0.63      0.61       795\n",
            "\n",
            "    accuracy                           0.84      4957\n",
            "   macro avg       0.50      0.52      0.51      4957\n",
            "weighted avg       0.80      0.84      0.82      4957\n",
            "\n",
            "\n",
            "Confusion Matrix: \n",
            " [[   0  169   65]\n",
            " [   1 3663  264]\n",
            " [   0  296  499]]\n"
          ]
        }
      ]
    },
    {
      "cell_type": "code",
      "source": [
        "print(classification_report(np.argmax(y_test, axis=1), dataframe_bi['predClass']))\n",
        "print('\\nConfusion Matrix: \\n', confusion_matrix(np.argmax(y_test, axis=1), dataframe_bi['predClass']))"
      ],
      "metadata": {
        "colab": {
          "base_uri": "https://localhost:8080/"
        },
        "id": "SG8NrB9saQOe",
        "outputId": "b7d1c44b-a0dd-4ee3-f382-4e73b1b2abf8"
      },
      "execution_count": null,
      "outputs": [
        {
          "output_type": "stream",
          "name": "stdout",
          "text": [
            "              precision    recall  f1-score   support\n",
            "\n",
            "           0       0.37      0.23      0.28       234\n",
            "           1       0.94      0.94      0.94      3928\n",
            "           2       0.77      0.84      0.81       795\n",
            "\n",
            "    accuracy                           0.89      4957\n",
            "   macro avg       0.69      0.67      0.68      4957\n",
            "weighted avg       0.88      0.89      0.89      4957\n",
            "\n",
            "\n",
            "Confusion Matrix: \n",
            " [[  53  135   46]\n",
            " [  77 3703  148]\n",
            " [  15  112  668]]\n"
          ]
        }
      ]
    },
    {
      "cell_type": "code",
      "source": [
        "print(classification_report(np.argmax(y_test, axis=1), dataframe_bi_embeddings['predClass']))\n",
        "print('\\nConfusion Matrix: \\n', confusion_matrix(np.argmax(y_test, axis=1), dataframe_bi_embeddings['predClass']))"
      ],
      "metadata": {
        "colab": {
          "base_uri": "https://localhost:8080/"
        },
        "id": "vsAVyyK4h8Xa",
        "outputId": "25bf6abc-daba-46ab-fbfe-7144d3f2d6ef"
      },
      "execution_count": null,
      "outputs": [
        {
          "output_type": "stream",
          "name": "stdout",
          "text": [
            "              precision    recall  f1-score   support\n",
            "\n",
            "           0       0.00      0.00      0.00       234\n",
            "           1       0.88      0.94      0.91      3928\n",
            "           2       0.63      0.59      0.61       795\n",
            "\n",
            "    accuracy                           0.84      4957\n",
            "   macro avg       0.50      0.51      0.51      4957\n",
            "weighted avg       0.80      0.84      0.82      4957\n",
            "\n",
            "\n",
            "Confusion Matrix: \n",
            " [[   0  185   49]\n",
            " [   0 3703  225]\n",
            " [   0  323  472]]\n"
          ]
        },
        {
          "output_type": "stream",
          "name": "stderr",
          "text": [
            "/usr/local/lib/python3.7/dist-packages/sklearn/metrics/_classification.py:1318: UndefinedMetricWarning: Precision and F-score are ill-defined and being set to 0.0 in labels with no predicted samples. Use `zero_division` parameter to control this behavior.\n",
            "  _warn_prf(average, modifier, msg_start, len(result))\n",
            "/usr/local/lib/python3.7/dist-packages/sklearn/metrics/_classification.py:1318: UndefinedMetricWarning: Precision and F-score are ill-defined and being set to 0.0 in labels with no predicted samples. Use `zero_division` parameter to control this behavior.\n",
            "  _warn_prf(average, modifier, msg_start, len(result))\n",
            "/usr/local/lib/python3.7/dist-packages/sklearn/metrics/_classification.py:1318: UndefinedMetricWarning: Precision and F-score are ill-defined and being set to 0.0 in labels with no predicted samples. Use `zero_division` parameter to control this behavior.\n",
            "  _warn_prf(average, modifier, msg_start, len(result))\n"
          ]
        }
      ]
    },
    {
      "cell_type": "markdown",
      "source": [
        "## Controversial Topic Analysis"
      ],
      "metadata": {
        "id": "g6m6rsdIaxNE"
      }
    },
    {
      "cell_type": "markdown",
      "source": [
        "We will use the following results to compare our model with Deephate based on our labeling and then to choose the best model."
      ],
      "metadata": {
        "id": "YArFlXz7k0D-"
      }
    },
    {
      "cell_type": "code",
      "source": [
        "def analyze_controversial_topic(data, test, model_lstm, model_bilstm, title='topic'):\n",
        "    predicted_lstm = model_lstm.predict(test)\n",
        "    predicted_bi = model_bilstm.predict(test)\n",
        "    dataframe_lstm = pd.DataFrame.from_records(predicted_lstm)\n",
        "    dataframe_bi = pd.DataFrame.from_records(predicted_bi)\n",
        "    dataframe_lstm['predClass'] = dataframe_lstm.apply(lambda row: get_label(row), axis=1)\n",
        "    dataframe_bi['predClass'] = dataframe_bi.apply(lambda row: get_label(row), axis=1)\n",
        "    print('Controversial Topic Analysis\\n\\n')\n",
        "    print('Labels: ', title)\n",
        "    print('LSTM RESULTS')\n",
        "    print(classification_report(data['class'], dataframe_lstm['predClass']))\n",
        "    print('\\nConfusion Matrix: \\n', confusion_matrix(data['class'], dataframe_lstm['predClass']))\n",
        "    print('BILSTM RESULTS')\n",
        "    print(classification_report(data['class'], dataframe_bi['predClass']))\n",
        "    print('\\nConfusion Matrix: \\n', confusion_matrix(data['class'], dataframe_bi['predClass']))"
      ],
      "metadata": {
        "id": "7GNmA9pW8zqh"
      },
      "execution_count": null,
      "outputs": []
    },
    {
      "cell_type": "markdown",
      "source": [
        "### Donald Trump"
      ],
      "metadata": {
        "id": "mGj4ESIMcsG-"
      }
    },
    {
      "cell_type": "code",
      "source": [
        "analyze_controversial_topic(trump_data, trump_test, model_lstm=lstm_model_trained, model_bilstm=bilstm_model_trained, title='Trump')"
      ],
      "metadata": {
        "id": "N9yLpvv2ZS-A",
        "colab": {
          "base_uri": "https://localhost:8080/"
        },
        "outputId": "f34b33fe-7c8d-47af-c33c-a3d1e2280af7"
      },
      "execution_count": null,
      "outputs": [
        {
          "output_type": "stream",
          "name": "stdout",
          "text": [
            "Controversial Topic Analysis\n",
            "\n",
            "\n",
            "Labels:  Trump\n",
            "LSTM RESULTS\n",
            "              precision    recall  f1-score   support\n",
            "\n",
            "           0       0.00      0.00      0.00        11\n",
            "           1       0.28      0.93      0.43        54\n",
            "           2       0.50      0.02      0.05       124\n",
            "\n",
            "    accuracy                           0.28       189\n",
            "   macro avg       0.26      0.32      0.16       189\n",
            "weighted avg       0.41      0.28      0.15       189\n",
            "\n",
            "\n",
            "Confusion Matrix: \n",
            " [[  0  10   1]\n",
            " [  2  50   2]\n",
            " [  1 120   3]]\n",
            "BILSTM RESULTS\n",
            "              precision    recall  f1-score   support\n",
            "\n",
            "           0       0.00      0.00      0.00        11\n",
            "           1       0.30      1.00      0.46        54\n",
            "           2       0.60      0.02      0.05       124\n",
            "\n",
            "    accuracy                           0.30       189\n",
            "   macro avg       0.30      0.34      0.17       189\n",
            "weighted avg       0.48      0.30      0.16       189\n",
            "\n",
            "\n",
            "Confusion Matrix: \n",
            " [[  0   9   2]\n",
            " [  0  54   0]\n",
            " [  4 117   3]]\n"
          ]
        }
      ]
    },
    {
      "cell_type": "markdown",
      "source": [
        "### LGBT"
      ],
      "metadata": {
        "id": "DzVqFr_zcusM"
      }
    },
    {
      "cell_type": "code",
      "source": [
        "analyze_controversial_topic(lgbt_data, lgbt_test, model_lstm=lstm_model_trained, model_bilstm=bilstm_model_trained, title='LGBTQ*')"
      ],
      "metadata": {
        "colab": {
          "base_uri": "https://localhost:8080/"
        },
        "id": "X7k70A_Nj1wu",
        "outputId": "ab86021c-533c-4f58-eac1-c5b6117e6cb4"
      },
      "execution_count": null,
      "outputs": [
        {
          "output_type": "stream",
          "name": "stdout",
          "text": [
            "Controversial Topic Analysis\n",
            "\n",
            "\n",
            "Labels:  LGBTQ*\n",
            "LSTM RESULTS\n",
            "              precision    recall  f1-score   support\n",
            "\n",
            "           0       0.50      0.07      0.12        14\n",
            "           1       0.27      0.97      0.42        40\n",
            "           2       0.33      0.01      0.02        96\n",
            "\n",
            "    accuracy                           0.27       150\n",
            "   macro avg       0.37      0.35      0.19       150\n",
            "weighted avg       0.33      0.27      0.14       150\n",
            "\n",
            "\n",
            "Confusion Matrix: \n",
            " [[ 1 12  1]\n",
            " [ 0 39  1]\n",
            " [ 1 94  1]]\n",
            "BILSTM RESULTS\n",
            "              precision    recall  f1-score   support\n",
            "\n",
            "           0       0.50      0.07      0.12        14\n",
            "           1       0.27      0.97      0.42        40\n",
            "           2       1.00      0.01      0.02        96\n",
            "\n",
            "    accuracy                           0.27       150\n",
            "   macro avg       0.59      0.35      0.19       150\n",
            "weighted avg       0.76      0.27      0.14       150\n",
            "\n",
            "\n",
            "Confusion Matrix: \n",
            " [[ 1 13  0]\n",
            " [ 1 39  0]\n",
            " [ 0 95  1]]\n"
          ]
        }
      ]
    },
    {
      "cell_type": "markdown",
      "source": [
        "### Covid Dataset"
      ],
      "metadata": {
        "id": "C6pilkP3dTx0"
      }
    },
    {
      "cell_type": "code",
      "source": [
        "analyze_controversial_topic(covid_data, covid_test, model_lstm=lstm_model_trained, model_bilstm=bilstm_model_trained, title='Covid19')"
      ],
      "metadata": {
        "colab": {
          "base_uri": "https://localhost:8080/"
        },
        "id": "tVij7CmfkpMM",
        "outputId": "e9331a82-51ea-461f-a803-9a5fcc139730"
      },
      "execution_count": null,
      "outputs": [
        {
          "output_type": "stream",
          "name": "stdout",
          "text": [
            "Controversial Topic Analysis\n",
            "\n",
            "\n",
            "Labels:  Covid19\n",
            "LSTM RESULTS\n",
            "              precision    recall  f1-score   support\n",
            "\n",
            "           0       0.33      0.02      0.03        57\n",
            "           1       0.30      0.95      0.45        56\n",
            "           2       0.38      0.04      0.07        77\n",
            "\n",
            "    accuracy                           0.30       190\n",
            "   macro avg       0.33      0.33      0.18       190\n",
            "weighted avg       0.34      0.30      0.17       190\n",
            "\n",
            "\n",
            "Confusion Matrix: \n",
            " [[ 1 53  3]\n",
            " [ 1 53  2]\n",
            " [ 1 73  3]]\n",
            "BILSTM RESULTS\n",
            "              precision    recall  f1-score   support\n",
            "\n",
            "           0       0.50      0.04      0.07        57\n",
            "           1       0.31      0.96      0.46        56\n",
            "           2       0.22      0.03      0.05        77\n",
            "\n",
            "    accuracy                           0.31       190\n",
            "   macro avg       0.34      0.34      0.19       190\n",
            "weighted avg       0.33      0.31      0.18       190\n",
            "\n",
            "\n",
            "Confusion Matrix: \n",
            " [[ 2 50  5]\n",
            " [ 0 54  2]\n",
            " [ 2 73  2]]\n"
          ]
        }
      ]
    }
  ]
}